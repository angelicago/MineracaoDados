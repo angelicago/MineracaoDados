{
  "nbformat": 4,
  "nbformat_minor": 0,
  "metadata": {
    "colab": {
      "provenance": [],
      "collapsed_sections": [],
      "authorship_tag": "ABX9TyOK+cXucuhe45JX+VAgU0m/",
      "include_colab_link": true
    },
    "kernelspec": {
      "name": "ir",
      "display_name": "R"
    },
    "language_info": {
      "name": "R"
    },
    "accelerator": "GPU"
  },
  "cells": [
    {
      "cell_type": "markdown",
      "metadata": {
        "id": "view-in-github",
        "colab_type": "text"
      },
      "source": [
        "<a href=\"https://colab.research.google.com/github/angelicago/MineracaoDados/blob/main/ArvoreRegressao.ipynb\" target=\"_parent\"><img src=\"https://colab.research.google.com/assets/colab-badge.svg\" alt=\"Open In Colab\"/></a>"
      ]
    },
    {
      "cell_type": "markdown",
      "source": [
        "# **Análise de Árvore de Regressão em Indicadores: Pobreza, distribuição e desigualdade de renda.**\n"
      ],
      "metadata": {
        "id": "XRRvVzbrsXuj"
      }
    },
    {
      "cell_type": "code",
      "source": [
        "install.packages(\"tidymodels\")\n",
        "install.packages(\"janitor\")\n",
        "install.packages(\"skimr\")\n",
        "install.packages(\"vip\")\n",
        "install.packages(\"rpart.plot\")\n",
        "install.packages(\"randomForest\")"
      ],
      "metadata": {
        "id": "pE-ghNXasKbG"
      },
      "execution_count": null,
      "outputs": []
    },
    {
      "cell_type": "code",
      "execution_count": null,
      "metadata": {
        "id": "Rf9jeeO7rw6X"
      },
      "outputs": [],
      "source": [
        "library(tidyverse)\n",
        "library(tidymodels)\n",
        "library(janitor)\n",
        "library(skimr) # visualização de dados\n",
        "library(vip)\n",
        "library(rpart.plot)\n",
        "library(randomForest)"
      ]
    },
    {
      "cell_type": "markdown",
      "source": [
        "Carregando o conjunto de dados:\n"
      ],
      "metadata": {
        "id": "-5QN5EIas3uK"
      }
    },
    {
      "cell_type": "code",
      "source": [
        "dados <- read_csv2(\"Rendimentos.csv\")\n",
        "dados$Ano <- NULL\n",
        "dados <- janitor::clean_names(dados)\n",
        "dados <- rename(dados,rendimento = rendimento_medio_mensal_no_trabalho_principal, localizacao = regiao_e_localizacao_do_domicilio )\n",
        "\n",
        "dados <- dados |>\n",
        "  mutate(cor_raca  = as.factor(cor_raca)) |>\n",
        "  mutate(localizacao = as.factor(localizacao))|>\n",
        "  mutate(sexo = as.factor(sexo))\n",
        "glimpse(dados)\n"
      ],
      "metadata": {
        "id": "7rz9KeoTs4na"
      },
      "execution_count": null,
      "outputs": []
    },
    {
      "cell_type": "code",
      "source": [
        "dados |>\n",
        "  skim()"
      ],
      "metadata": {
        "colab": {
          "base_uri": "https://localhost:8080/"
        },
        "id": "JjyalF7Hs_7j",
        "outputId": "60f338be-2773-47ba-ff4e-39643bc6a9b8"
      },
      "execution_count": 9,
      "outputs": [
        {
          "output_type": "stream",
          "name": "stdout",
          "text": [
            "── Data Summary ────────────────────────\n",
            "                           Values\n",
            "Name                       dados \n",
            "Number of rows             152   \n",
            "Number of columns          4     \n",
            "_______________________          \n",
            "Column type frequency:           \n",
            "  factor                   3     \n",
            "  numeric                  1     \n",
            "________________________         \n",
            "Group variables            None  \n",
            "\n",
            "── Variable type: factor ───────────────────────────────────────────────────────\n",
            "  skim_variable n_missing complete_rate ordered n_unique top_counts      \n",
            "\u001b[90m1\u001b[39m cor_raca              0             1 FALSE          2 Bra: 76, Neg: 76\n",
            "\u001b[90m2\u001b[39m localizacao           0             1 FALSE          2 Rur: 76, Urb: 76\n",
            "\u001b[90m3\u001b[39m sexo                  0             1 FALSE          2 Fem: 76, Mas: 76\n",
            "\n",
            "── Variable type: numeric ──────────────────────────────────────────────────────\n",
            "  skim_variable n_missing complete_rate  mean   sd   p0  p25  p50   p75  p100\n",
            "\u001b[90m1\u001b[39m rendimento            0             1 \u001b[4m1\u001b[24m041. 703. 141. 480. 908. \u001b[4m1\u001b[24m390. \u001b[4m2\u001b[24m856.\n",
            "  hist \n",
            "\u001b[90m1\u001b[39m ▇▆▅▂▂\n"
          ]
        },
        {
          "output_type": "stream",
          "name": "stderr",
          "text": [
            "Warning message in is.null(text_repr) || nchar(text_repr) == 0L:\n",
            "“'length(x) = 2 > 1' in coercion to 'logical(1)'”\n"
          ]
        }
      ]
    },
    {
      "cell_type": "markdown",
      "source": [
        "**Exploração dos dados:**"
      ],
      "metadata": {
        "id": "lt_vehhatBLZ"
      }
    },
    {
      "cell_type": "code",
      "source": [
        "dados |> group_by(sexo) |> summarise(media = mean(rendimento), \n",
        "                                             mediana = median(rendimento))"
      ],
      "metadata": {
        "colab": {
          "base_uri": "https://localhost:8080/",
          "height": 161
        },
        "id": "uBPa0-VGtDgb",
        "outputId": "53804283-3326-458e-bf0a-1c526abbc0d0"
      },
      "execution_count": 10,
      "outputs": [
        {
          "output_type": "display_data",
          "data": {
            "text/html": [
              "<table class=\"dataframe\">\n",
              "<caption>A tibble: 2 × 3</caption>\n",
              "<thead>\n",
              "\t<tr><th scope=col>sexo</th><th scope=col>media</th><th scope=col>mediana</th></tr>\n",
              "\t<tr><th scope=col>&lt;fct&gt;</th><th scope=col>&lt;dbl&gt;</th><th scope=col>&lt;dbl&gt;</th></tr>\n",
              "</thead>\n",
              "<tbody>\n",
              "\t<tr><td>Feminino </td><td> 748.4447</td><td> 652.75</td></tr>\n",
              "\t<tr><td>Masculino</td><td>1332.8934</td><td>1134.95</td></tr>\n",
              "</tbody>\n",
              "</table>\n"
            ],
            "text/markdown": "\nA tibble: 2 × 3\n\n| sexo &lt;fct&gt; | media &lt;dbl&gt; | mediana &lt;dbl&gt; |\n|---|---|---|\n| Feminino  |  748.4447 |  652.75 |\n| Masculino | 1332.8934 | 1134.95 |\n\n",
            "text/latex": "A tibble: 2 × 3\n\\begin{tabular}{lll}\n sexo & media & mediana\\\\\n <fct> & <dbl> & <dbl>\\\\\n\\hline\n\t Feminino  &  748.4447 &  652.75\\\\\n\t Masculino & 1332.8934 & 1134.95\\\\\n\\end{tabular}\n",
            "text/plain": [
              "  sexo      media     mediana\n",
              "1 Feminino   748.4447  652.75\n",
              "2 Masculino 1332.8934 1134.95"
            ]
          },
          "metadata": {}
        }
      ]
    },
    {
      "cell_type": "code",
      "source": [
        "ggplot(dados) + geom_boxplot(aes(x =rendimento, y = sexo))"
      ],
      "metadata": {
        "colab": {
          "base_uri": "https://localhost:8080/",
          "height": 437
        },
        "id": "1o2c_Y23tEXq",
        "outputId": "49129e35-9b45-436e-a140-f6c0d0c5478c"
      },
      "execution_count": 11,
      "outputs": [
        {
          "output_type": "display_data",
          "data": {
            "text/plain": [
              "plot without title"
            ],
            "image/png": "[encoded data removed]"
          },
          "metadata": {
            "image/png": {
              "width": 420,
              "height": 420
            }
          }
        }
      ]
    },
    {
      "cell_type": "markdown",
      "source": [
        "Analisando a média salarial e também o gráfico de boxplot percebe-se que há uma diferença salarial por sexo onde o sexo masculina aparenta ser maior que o feminino. Neste caso é interessante aplicar um teste de hipotese para verificar essa afirmação\n",
        "\n",
        "**Teste de hipótese:**\n",
        "\n",
        "**Hipótese Nula:** Salários para sexo Masculino e Feminino vêm da mesma distribuição, ou seja, tem a mesma média \n",
        "\n",
        "**Hipótese Alternativa:** média do salário do sexo Masculino é maior do que a média salarial para o sexo Feminino"
      ],
      "metadata": {
        "id": "EjHyep11tHcj"
      }
    },
    {
      "cell_type": "code",
      "source": [
        "salariosM <- dados |> filter(sexo == \"Masculino\")\n",
        "salariosF <- dados |> filter(sexo == \"Feminino\")\n",
        "wilcox.test(x = salariosM$rendimento, \n",
        "            y = salariosF$rendimento,\n",
        "            alternative = \"greater\")\n",
        "cat(\"Como p-value = 1.618e-07 então ficamos com a hipótese alternativa.\")"
      ],
      "metadata": {
        "colab": {
          "base_uri": "https://localhost:8080/",
          "height": 139
        },
        "id": "MB27QI08tFkq",
        "outputId": "fa6521ff-c219-4394-ae7e-64a664c3bd1f"
      },
      "execution_count": 12,
      "outputs": [
        {
          "output_type": "display_data",
          "data": {
            "text/plain": [
              "\n",
              "\tWilcoxon rank sum test with continuity correction\n",
              "\n",
              "data:  salariosM$rendimento and salariosF$rendimento\n",
              "W = 4275, p-value = 1.618e-07\n",
              "alternative hypothesis: true location shift is greater than 0\n"
            ]
          },
          "metadata": {}
        },
        {
          "output_type": "stream",
          "name": "stdout",
          "text": [
            "Como p-value = 1.618e-07 então ficamos com a hipótese alternativa."
          ]
        }
      ]
    },
    {
      "cell_type": "markdown",
      "source": [
        "**Variação do rendimento por cor_raça:**"
      ],
      "metadata": {
        "id": "1sVfgO1ytY9L"
      }
    },
    {
      "cell_type": "code",
      "source": [
        "dados |>\n",
        "  group_by(cor_raca) |>\n",
        "  summarise(rendimento = round(mean(rendimento),2)) |> \n",
        "  ggplot(aes(x = cor_raca, y = rendimento)) +\n",
        "  geom_col(stat=\"identity\",fill=\"lightblue\") +\n",
        "  geom_text(aes(label = rendimento, vjust = 2))+\n",
        "  ggtitle(\"Rendimento Médio por Cor/Raça\")"
      ],
      "metadata": {
        "colab": {
          "base_uri": "https://localhost:8080/",
          "height": 472
        },
        "id": "7HTPSHiDtZmJ",
        "outputId": "9f1355d0-5629-43aa-faf2-083918d92c82"
      },
      "execution_count": 57,
      "outputs": [
        {
          "output_type": "stream",
          "name": "stderr",
          "text": [
            "Warning message:\n",
            "“Ignoring unknown parameters: stat”\n"
          ]
        },
        {
          "output_type": "display_data",
          "data": {
            "text/plain": [
              "plot without title"
            ],
            "image/png": "[encoded data removed]"
          },
          "metadata": {
            "image/png": {
              "width": 420,
              "height": 420
            }
          }
        }
      ]
    },
    {
      "cell_type": "markdown",
      "source": [
        "Analisando o rendimento por raça é possível verificar que a média salarial para a cor/raça branca é maior do que para cor/raça negra."
      ],
      "metadata": {
        "id": "V9cJ0bm-tckh"
      }
    },
    {
      "cell_type": "markdown",
      "source": [
        "**Variação do rendimento por localização:**"
      ],
      "metadata": {
        "id": "GChCJQNZtdx6"
      }
    },
    {
      "cell_type": "code",
      "source": [
        "dados |>\n",
        "  group_by(localizacao) |>\n",
        "  summarise(rendimento = round(mean(rendimento),2)) |>\n",
        "  ggplot(aes(x = localizacao, y = rendimento)) +\n",
        "  geom_col(stat=\"identity\",fill=\"purple\") +\n",
        "  geom_text(aes(label = rendimento, vjust = 2))+\n",
        "   ggtitle(\"Rendimento Médio por localização\")\n"
      ],
      "metadata": {
        "colab": {
          "base_uri": "https://localhost:8080/",
          "height": 472
        },
        "id": "dIJ3ohuxta3J",
        "outputId": "cec055d0-087b-48a4-dad0-bb84e648c694"
      },
      "execution_count": 14,
      "outputs": [
        {
          "output_type": "stream",
          "name": "stderr",
          "text": [
            "Warning message:\n",
            "“Ignoring unknown parameters: stat”\n"
          ]
        },
        {
          "output_type": "display_data",
          "data": {
            "text/plain": [
              "plot without title"
            ],
            "image/png": "[encoded data removed]"
          },
          "metadata": {
            "image/png": {
              "width": 420,
              "height": 420
            }
          }
        }
      ]
    },
    {
      "cell_type": "markdown",
      "source": [
        "Analisando o rendimento por localização é possível verificar que a média salarial para a zona urbana é maior do que para zona rural.\n"
      ],
      "metadata": {
        "id": "72vV_Y5OtlTC"
      }
    },
    {
      "cell_type": "markdown",
      "source": [
        "# **Árvores de Decisão:**"
      ],
      "metadata": {
        "id": "nD8-o6wGtmlD"
      }
    },
    {
      "cell_type": "markdown",
      "source": [
        "hiperparâmetros:cost_complexity (O parâmetro de complexidade de custo), tree_depthe (A profundidade máxima de uma árvore) e min_n (o número mínimo de pontos de dados em um nó que são necessários para que o nó seja dividido ainda mais). Para utilização dos ajustes de hiperparâmetros, será criado validação crizada nos dados de treinamento."
      ],
      "metadata": {
        "id": "CtfWDPJgtpnk"
      }
    },
    {
      "cell_type": "markdown",
      "source": [
        "**Separação dos dados entre treinamento e teste**"
      ],
      "metadata": {
        "id": "r9TAurpgtrkq"
      }
    },
    {
      "cell_type": "markdown",
      "source": [
        "Essa separação é feito para testar a perfomance do modelo em dados não visto anteriormente e ajuda a evitar overfitting (ocorre quando o modelo tem um desempenho bom nos dados de treino mas nos dados de teste o resultado é ruim). Será utilizado 75% da base para treinar e os demais para testar. Os dados de treinamento serão divididos em 5 dobras para ajuste de hiperparâmetros."
      ],
      "metadata": {
        "id": "KGHSOEuQtuCa"
      }
    },
    {
      "cell_type": "code",
      "source": [
        "dados$rendimento <- log10(dados$rendimento)"
      ],
      "metadata": {
        "id": "xqnjJ4vptq_q"
      },
      "execution_count": 15,
      "outputs": []
    },
    {
      "cell_type": "code",
      "source": [
        "set.seed(314)\n",
        "divisao_dados <- initial_split(data = dados,strata = \"rendimento\" ,prop = 0.75)\n",
        "dados_treinamento <- training(divisao_dados)\n",
        "dados_teste <- testing(divisao_dados)\n",
        "\n",
        "set.seed(314)\n",
        "cv <- vfold_cv(dados_treinamento, v = 5)"
      ],
      "metadata": {
        "id": "DTou9fKItk95"
      },
      "execution_count": 16,
      "outputs": []
    },
    {
      "cell_type": "markdown",
      "source": [
        "**Engenharia de Recurso:**"
      ],
      "metadata": {
        "id": "IodZ3E6styI5"
      }
    },
    {
      "cell_type": "markdown",
      "source": [
        "Nesta etapa será criado a receita de engenharia de recursos para o conjunto de dados. Será aplicado algumas transformações nos dados:\n",
        "\n",
        "- step_dummy : Crie variáveis fictícias (0 ou 1) para todos os preditores nominais"
      ],
      "metadata": {
        "id": "0HuBVbqMt0Qy"
      }
    },
    {
      "cell_type": "code",
      "source": [
        "receita <- recipe(rendimento  ~ ., data = dados_treinamento) |>\n",
        "                       step_dummy(all_nominal(), -all_outcomes())|> prep(training = dados_treinamento, retain = TRUE)"
      ],
      "metadata": {
        "id": "QP1p1YZTtxVa"
      },
      "execution_count": 17,
      "outputs": []
    },
    {
      "cell_type": "markdown",
      "source": [
        "Verificando se as etapas de engenharia de recursos foram executadas corretamente."
      ],
      "metadata": {
        "id": "I6FOlHjut4UH"
      }
    },
    {
      "cell_type": "code",
      "source": [
        "receita |> \n",
        "  prep() |>\n",
        "  bake(new_data = dados_treinamento)"
      ],
      "metadata": {
        "colab": {
          "base_uri": "https://localhost:8080/",
          "height": 1000
        },
        "id": "4FlnUG98t3Wq",
        "outputId": "c1ac2876-3d5e-4ae5-93b3-a500787609d6"
      },
      "execution_count": 18,
      "outputs": [
        {
          "output_type": "display_data",
          "data": {
            "text/html": [
              "<table class=\"dataframe\">\n",
              "<caption>A tibble: 112 × 4</caption>\n",
              "<thead>\n",
              "\t<tr><th scope=col>rendimento</th><th scope=col>cor_raca_Negra</th><th scope=col>localizacao_Urbano</th><th scope=col>sexo_Masculino</th></tr>\n",
              "\t<tr><th scope=col>&lt;dbl&gt;</th><th scope=col>&lt;int&gt;</th><th scope=col>&lt;int&gt;</th><th scope=col>&lt;int&gt;</th></tr>\n",
              "</thead>\n",
              "<tbody>\n",
              "\t<tr><td>2.661529</td><td>1</td><td>0</td><td>1</td></tr>\n",
              "\t<tr><td>2.635685</td><td>1</td><td>0</td><td>1</td></tr>\n",
              "\t<tr><td>2.620552</td><td>1</td><td>0</td><td>1</td></tr>\n",
              "\t<tr><td>2.611298</td><td>1</td><td>0</td><td>1</td></tr>\n",
              "\t<tr><td>2.346939</td><td>0</td><td>0</td><td>0</td></tr>\n",
              "\t<tr><td>2.175802</td><td>1</td><td>0</td><td>0</td></tr>\n",
              "\t<tr><td>2.436004</td><td>0</td><td>0</td><td>0</td></tr>\n",
              "\t<tr><td>2.262451</td><td>1</td><td>0</td><td>0</td></tr>\n",
              "\t<tr><td>2.382917</td><td>0</td><td>0</td><td>0</td></tr>\n",
              "\t<tr><td>2.214579</td><td>1</td><td>0</td><td>0</td></tr>\n",
              "\t<tr><td>2.507451</td><td>0</td><td>0</td><td>0</td></tr>\n",
              "\t<tr><td>2.266702</td><td>1</td><td>0</td><td>0</td></tr>\n",
              "\t<tr><td>2.477266</td><td>0</td><td>0</td><td>0</td></tr>\n",
              "\t<tr><td>2.240799</td><td>1</td><td>0</td><td>0</td></tr>\n",
              "\t<tr><td>2.188928</td><td>1</td><td>0</td><td>0</td></tr>\n",
              "\t<tr><td>2.376759</td><td>0</td><td>0</td><td>0</td></tr>\n",
              "\t<tr><td>2.400192</td><td>0</td><td>0</td><td>0</td></tr>\n",
              "\t<tr><td>2.150449</td><td>1</td><td>0</td><td>0</td></tr>\n",
              "\t<tr><td>2.435685</td><td>0</td><td>0</td><td>0</td></tr>\n",
              "\t<tr><td>2.227630</td><td>1</td><td>0</td><td>0</td></tr>\n",
              "\t<tr><td>2.441381</td><td>0</td><td>0</td><td>0</td></tr>\n",
              "\t<tr><td>2.267172</td><td>1</td><td>0</td><td>0</td></tr>\n",
              "\t<tr><td>2.540455</td><td>0</td><td>0</td><td>0</td></tr>\n",
              "\t<tr><td>2.288473</td><td>1</td><td>0</td><td>0</td></tr>\n",
              "\t<tr><td>2.641177</td><td>0</td><td>0</td><td>0</td></tr>\n",
              "\t<tr><td>2.434090</td><td>1</td><td>0</td><td>0</td></tr>\n",
              "\t<tr><td>2.468938</td><td>1</td><td>0</td><td>0</td></tr>\n",
              "\t<tr><td>2.515609</td><td>1</td><td>0</td><td>0</td></tr>\n",
              "\t<tr><td>2.952114</td><td>0</td><td>0</td><td>1</td></tr>\n",
              "\t<tr><td>2.707059</td><td>1</td><td>0</td><td>1</td></tr>\n",
              "\t<tr><td>⋮</td><td>⋮</td><td>⋮</td><td>⋮</td></tr>\n",
              "\t<tr><td>3.069557</td><td>1</td><td>1</td><td>0</td></tr>\n",
              "\t<tr><td>3.062018</td><td>1</td><td>1</td><td>0</td></tr>\n",
              "\t<tr><td>3.413501</td><td>0</td><td>1</td><td>1</td></tr>\n",
              "\t<tr><td>3.413920</td><td>0</td><td>1</td><td>1</td></tr>\n",
              "\t<tr><td>3.415958</td><td>0</td><td>1</td><td>1</td></tr>\n",
              "\t<tr><td>3.409358</td><td>0</td><td>1</td><td>1</td></tr>\n",
              "\t<tr><td>3.355681</td><td>0</td><td>1</td><td>1</td></tr>\n",
              "\t<tr><td>3.341098</td><td>0</td><td>1</td><td>1</td></tr>\n",
              "\t<tr><td>3.308394</td><td>0</td><td>1</td><td>1</td></tr>\n",
              "\t<tr><td>3.325536</td><td>0</td><td>1</td><td>1</td></tr>\n",
              "\t<tr><td>3.359304</td><td>0</td><td>1</td><td>1</td></tr>\n",
              "\t<tr><td>3.370421</td><td>0</td><td>1</td><td>1</td></tr>\n",
              "\t<tr><td>3.375810</td><td>0</td><td>1</td><td>1</td></tr>\n",
              "\t<tr><td>3.147429</td><td>1</td><td>1</td><td>1</td></tr>\n",
              "\t<tr><td>3.181215</td><td>1</td><td>1</td><td>1</td></tr>\n",
              "\t<tr><td>3.440216</td><td>0</td><td>1</td><td>1</td></tr>\n",
              "\t<tr><td>3.204852</td><td>1</td><td>1</td><td>1</td></tr>\n",
              "\t<tr><td>3.455728</td><td>0</td><td>1</td><td>1</td></tr>\n",
              "\t<tr><td>3.222196</td><td>1</td><td>1</td><td>1</td></tr>\n",
              "\t<tr><td>3.454052</td><td>0</td><td>1</td><td>1</td></tr>\n",
              "\t<tr><td>3.229912</td><td>1</td><td>1</td><td>1</td></tr>\n",
              "\t<tr><td>3.433482</td><td>0</td><td>1</td><td>1</td></tr>\n",
              "\t<tr><td>3.174089</td><td>0</td><td>1</td><td>0</td></tr>\n",
              "\t<tr><td>3.159808</td><td>0</td><td>1</td><td>0</td></tr>\n",
              "\t<tr><td>3.167435</td><td>0</td><td>1</td><td>0</td></tr>\n",
              "\t<tr><td>3.179121</td><td>0</td><td>1</td><td>0</td></tr>\n",
              "\t<tr><td>3.189238</td><td>0</td><td>1</td><td>0</td></tr>\n",
              "\t<tr><td>3.236865</td><td>0</td><td>1</td><td>0</td></tr>\n",
              "\t<tr><td>3.261715</td><td>0</td><td>1</td><td>0</td></tr>\n",
              "\t<tr><td>3.277609</td><td>0</td><td>1</td><td>0</td></tr>\n",
              "</tbody>\n",
              "</table>\n"
            ],
            "text/markdown": "\nA tibble: 112 × 4\n\n| rendimento &lt;dbl&gt; | cor_raca_Negra &lt;int&gt; | localizacao_Urbano &lt;int&gt; | sexo_Masculino &lt;int&gt; |\n|---|---|---|---|\n| 2.661529 | 1 | 0 | 1 |\n| 2.635685 | 1 | 0 | 1 |\n| 2.620552 | 1 | 0 | 1 |\n| 2.611298 | 1 | 0 | 1 |\n| 2.346939 | 0 | 0 | 0 |\n| 2.175802 | 1 | 0 | 0 |\n| 2.436004 | 0 | 0 | 0 |\n| 2.262451 | 1 | 0 | 0 |\n| 2.382917 | 0 | 0 | 0 |\n| 2.214579 | 1 | 0 | 0 |\n| 2.507451 | 0 | 0 | 0 |\n| 2.266702 | 1 | 0 | 0 |\n| 2.477266 | 0 | 0 | 0 |\n| 2.240799 | 1 | 0 | 0 |\n| 2.188928 | 1 | 0 | 0 |\n| 2.376759 | 0 | 0 | 0 |\n| 2.400192 | 0 | 0 | 0 |\n| 2.150449 | 1 | 0 | 0 |\n| 2.435685 | 0 | 0 | 0 |\n| 2.227630 | 1 | 0 | 0 |\n| 2.441381 | 0 | 0 | 0 |\n| 2.267172 | 1 | 0 | 0 |\n| 2.540455 | 0 | 0 | 0 |\n| 2.288473 | 1 | 0 | 0 |\n| 2.641177 | 0 | 0 | 0 |\n| 2.434090 | 1 | 0 | 0 |\n| 2.468938 | 1 | 0 | 0 |\n| 2.515609 | 1 | 0 | 0 |\n| 2.952114 | 0 | 0 | 1 |\n| 2.707059 | 1 | 0 | 1 |\n| ⋮ | ⋮ | ⋮ | ⋮ |\n| 3.069557 | 1 | 1 | 0 |\n| 3.062018 | 1 | 1 | 0 |\n| 3.413501 | 0 | 1 | 1 |\n| 3.413920 | 0 | 1 | 1 |\n| 3.415958 | 0 | 1 | 1 |\n| 3.409358 | 0 | 1 | 1 |\n| 3.355681 | 0 | 1 | 1 |\n| 3.341098 | 0 | 1 | 1 |\n| 3.308394 | 0 | 1 | 1 |\n| 3.325536 | 0 | 1 | 1 |\n| 3.359304 | 0 | 1 | 1 |\n| 3.370421 | 0 | 1 | 1 |\n| 3.375810 | 0 | 1 | 1 |\n| 3.147429 | 1 | 1 | 1 |\n| 3.181215 | 1 | 1 | 1 |\n| 3.440216 | 0 | 1 | 1 |\n| 3.204852 | 1 | 1 | 1 |\n| 3.455728 | 0 | 1 | 1 |\n| 3.222196 | 1 | 1 | 1 |\n| 3.454052 | 0 | 1 | 1 |\n| 3.229912 | 1 | 1 | 1 |\n| 3.433482 | 0 | 1 | 1 |\n| 3.174089 | 0 | 1 | 0 |\n| 3.159808 | 0 | 1 | 0 |\n| 3.167435 | 0 | 1 | 0 |\n| 3.179121 | 0 | 1 | 0 |\n| 3.189238 | 0 | 1 | 0 |\n| 3.236865 | 0 | 1 | 0 |\n| 3.261715 | 0 | 1 | 0 |\n| 3.277609 | 0 | 1 | 0 |\n\n",
            "text/latex": "A tibble: 112 × 4\n\\begin{tabular}{llll}\n rendimento & cor\\_raca\\_Negra & localizacao\\_Urbano & sexo\\_Masculino\\\\\n <dbl> & <int> & <int> & <int>\\\\\n\\hline\n\t 2.661529 & 1 & 0 & 1\\\\\n\t 2.635685 & 1 & 0 & 1\\\\\n\t 2.620552 & 1 & 0 & 1\\\\\n\t 2.611298 & 1 & 0 & 1\\\\\n\t 2.346939 & 0 & 0 & 0\\\\\n\t 2.175802 & 1 & 0 & 0\\\\\n\t 2.436004 & 0 & 0 & 0\\\\\n\t 2.262451 & 1 & 0 & 0\\\\\n\t 2.382917 & 0 & 0 & 0\\\\\n\t 2.214579 & 1 & 0 & 0\\\\\n\t 2.507451 & 0 & 0 & 0\\\\\n\t 2.266702 & 1 & 0 & 0\\\\\n\t 2.477266 & 0 & 0 & 0\\\\\n\t 2.240799 & 1 & 0 & 0\\\\\n\t 2.188928 & 1 & 0 & 0\\\\\n\t 2.376759 & 0 & 0 & 0\\\\\n\t 2.400192 & 0 & 0 & 0\\\\\n\t 2.150449 & 1 & 0 & 0\\\\\n\t 2.435685 & 0 & 0 & 0\\\\\n\t 2.227630 & 1 & 0 & 0\\\\\n\t 2.441381 & 0 & 0 & 0\\\\\n\t 2.267172 & 1 & 0 & 0\\\\\n\t 2.540455 & 0 & 0 & 0\\\\\n\t 2.288473 & 1 & 0 & 0\\\\\n\t 2.641177 & 0 & 0 & 0\\\\\n\t 2.434090 & 1 & 0 & 0\\\\\n\t 2.468938 & 1 & 0 & 0\\\\\n\t 2.515609 & 1 & 0 & 0\\\\\n\t 2.952114 & 0 & 0 & 1\\\\\n\t 2.707059 & 1 & 0 & 1\\\\\n\t ⋮ & ⋮ & ⋮ & ⋮\\\\\n\t 3.069557 & 1 & 1 & 0\\\\\n\t 3.062018 & 1 & 1 & 0\\\\\n\t 3.413501 & 0 & 1 & 1\\\\\n\t 3.413920 & 0 & 1 & 1\\\\\n\t 3.415958 & 0 & 1 & 1\\\\\n\t 3.409358 & 0 & 1 & 1\\\\\n\t 3.355681 & 0 & 1 & 1\\\\\n\t 3.341098 & 0 & 1 & 1\\\\\n\t 3.308394 & 0 & 1 & 1\\\\\n\t 3.325536 & 0 & 1 & 1\\\\\n\t 3.359304 & 0 & 1 & 1\\\\\n\t 3.370421 & 0 & 1 & 1\\\\\n\t 3.375810 & 0 & 1 & 1\\\\\n\t 3.147429 & 1 & 1 & 1\\\\\n\t 3.181215 & 1 & 1 & 1\\\\\n\t 3.440216 & 0 & 1 & 1\\\\\n\t 3.204852 & 1 & 1 & 1\\\\\n\t 3.455728 & 0 & 1 & 1\\\\\n\t 3.222196 & 1 & 1 & 1\\\\\n\t 3.454052 & 0 & 1 & 1\\\\\n\t 3.229912 & 1 & 1 & 1\\\\\n\t 3.433482 & 0 & 1 & 1\\\\\n\t 3.174089 & 0 & 1 & 0\\\\\n\t 3.159808 & 0 & 1 & 0\\\\\n\t 3.167435 & 0 & 1 & 0\\\\\n\t 3.179121 & 0 & 1 & 0\\\\\n\t 3.189238 & 0 & 1 & 0\\\\\n\t 3.236865 & 0 & 1 & 0\\\\\n\t 3.261715 & 0 & 1 & 0\\\\\n\t 3.277609 & 0 & 1 & 0\\\\\n\\end{tabular}\n",
            "text/plain": [
              "    rendimento cor_raca_Negra localizacao_Urbano sexo_Masculino\n",
              "1   2.661529   1              0                  1             \n",
              "2   2.635685   1              0                  1             \n",
              "3   2.620552   1              0                  1             \n",
              "4   2.611298   1              0                  1             \n",
              "5   2.346939   0              0                  0             \n",
              "6   2.175802   1              0                  0             \n",
              "7   2.436004   0              0                  0             \n",
              "8   2.262451   1              0                  0             \n",
              "9   2.382917   0              0                  0             \n",
              "10  2.214579   1              0                  0             \n",
              "11  2.507451   0              0                  0             \n",
              "12  2.266702   1              0                  0             \n",
              "13  2.477266   0              0                  0             \n",
              "14  2.240799   1              0                  0             \n",
              "15  2.188928   1              0                  0             \n",
              "16  2.376759   0              0                  0             \n",
              "17  2.400192   0              0                  0             \n",
              "18  2.150449   1              0                  0             \n",
              "19  2.435685   0              0                  0             \n",
              "20  2.227630   1              0                  0             \n",
              "21  2.441381   0              0                  0             \n",
              "22  2.267172   1              0                  0             \n",
              "23  2.540455   0              0                  0             \n",
              "24  2.288473   1              0                  0             \n",
              "25  2.641177   0              0                  0             \n",
              "26  2.434090   1              0                  0             \n",
              "27  2.468938   1              0                  0             \n",
              "28  2.515609   1              0                  0             \n",
              "29  2.952114   0              0                  1             \n",
              "30  2.707059   1              0                  1             \n",
              "⋮   ⋮          ⋮              ⋮                  ⋮             \n",
              "83  3.069557   1              1                  0             \n",
              "84  3.062018   1              1                  0             \n",
              "85  3.413501   0              1                  1             \n",
              "86  3.413920   0              1                  1             \n",
              "87  3.415958   0              1                  1             \n",
              "88  3.409358   0              1                  1             \n",
              "89  3.355681   0              1                  1             \n",
              "90  3.341098   0              1                  1             \n",
              "91  3.308394   0              1                  1             \n",
              "92  3.325536   0              1                  1             \n",
              "93  3.359304   0              1                  1             \n",
              "94  3.370421   0              1                  1             \n",
              "95  3.375810   0              1                  1             \n",
              "96  3.147429   1              1                  1             \n",
              "97  3.181215   1              1                  1             \n",
              "98  3.440216   0              1                  1             \n",
              "99  3.204852   1              1                  1             \n",
              "100 3.455728   0              1                  1             \n",
              "101 3.222196   1              1                  1             \n",
              "102 3.454052   0              1                  1             \n",
              "103 3.229912   1              1                  1             \n",
              "104 3.433482   0              1                  1             \n",
              "105 3.174089   0              1                  0             \n",
              "106 3.159808   0              1                  0             \n",
              "107 3.167435   0              1                  0             \n",
              "108 3.179121   0              1                  0             \n",
              "109 3.189238   0              1                  0             \n",
              "110 3.236865   0              1                  0             \n",
              "111 3.261715   0              1                  0             \n",
              "112 3.277609   0              1                  0             "
            ]
          },
          "metadata": {}
        }
      ]
    },
    {
      "cell_type": "markdown",
      "source": [
        "Especificação modelo:\n",
        "\n",
        "Para a criação do modelo será utilizado o mecanismo rpart que permitirá fazer gráficos do modelo de árvore de decião com a função rpart.plot"
      ],
      "metadata": {
        "id": "iAxRjwDFt7GK"
      }
    },
    {
      "cell_type": "code",
      "source": [
        "arvoredecisao <- decision_tree(cost_complexity = tune(),\n",
        "                            tree_depth = tune(),\n",
        "                            min_n = tune()) |>\n",
        "              set_engine('rpart') |> \n",
        "              set_mode('regression')"
      ],
      "metadata": {
        "id": "UVWBCeiAt82h"
      },
      "execution_count": 19,
      "outputs": []
    },
    {
      "cell_type": "markdown",
      "source": [
        "**Fluxo de trabalho:**\n",
        "Combinando o modelo e a receita em um fluxo de trabalho para gerenciar facilmente o processo de construção do modelo."
      ],
      "metadata": {
        "id": "obKPUqxgt-I6"
      }
    },
    {
      "cell_type": "code",
      "source": [
        "tree_workflow <- workflow() |>\n",
        "                 add_model(arvoredecisao) |>\n",
        "                 add_recipe(receita)"
      ],
      "metadata": {
        "id": "0kKGQ44Bt_d5"
      },
      "execution_count": 20,
      "outputs": []
    },
    {
      "cell_type": "markdown",
      "source": [
        "**Ajuste de hiperparâmetro:**\n",
        "Para modelos com múltiplos hiperparâmetros, tidymodels tem a função grid_regular() que cria automaticamente uma grade de ajuste com combinações de valores de hiperparâmetros sugeridos.Essa função recebe os hiperparâmetros com o argumentos levels (opção é usada para determinar o número de valores a serem criados para cada hiperparâmetro exclusivo).\n"
      ],
      "metadata": {
        "id": "cXQnkGR4vfni"
      }
    },
    {
      "cell_type": "code",
      "source": [
        "tree_grid <- grid_regular(cost_complexity(),\n",
        "                          tree_depth(),\n",
        "                          min_n(), \n",
        "                          levels = 2)\n",
        "tree_grid"
      ],
      "metadata": {
        "colab": {
          "base_uri": "https://localhost:8080/",
          "height": 349
        },
        "id": "e5dqfkRMvfQy",
        "outputId": "6de0af44-b26b-4624-b29e-d80e5e004768"
      },
      "execution_count": 21,
      "outputs": [
        {
          "output_type": "display_data",
          "data": {
            "text/html": [
              "<table class=\"dataframe\">\n",
              "<caption>A tibble: 8 × 3</caption>\n",
              "<thead>\n",
              "\t<tr><th scope=col>cost_complexity</th><th scope=col>tree_depth</th><th scope=col>min_n</th></tr>\n",
              "\t<tr><th scope=col>&lt;dbl&gt;</th><th scope=col>&lt;int&gt;</th><th scope=col>&lt;int&gt;</th></tr>\n",
              "</thead>\n",
              "<tbody>\n",
              "\t<tr><td>1e-10</td><td> 1</td><td> 2</td></tr>\n",
              "\t<tr><td>1e-01</td><td> 1</td><td> 2</td></tr>\n",
              "\t<tr><td>1e-10</td><td>15</td><td> 2</td></tr>\n",
              "\t<tr><td>1e-01</td><td>15</td><td> 2</td></tr>\n",
              "\t<tr><td>1e-10</td><td> 1</td><td>40</td></tr>\n",
              "\t<tr><td>1e-01</td><td> 1</td><td>40</td></tr>\n",
              "\t<tr><td>1e-10</td><td>15</td><td>40</td></tr>\n",
              "\t<tr><td>1e-01</td><td>15</td><td>40</td></tr>\n",
              "</tbody>\n",
              "</table>\n"
            ],
            "text/markdown": "\nA tibble: 8 × 3\n\n| cost_complexity &lt;dbl&gt; | tree_depth &lt;int&gt; | min_n &lt;int&gt; |\n|---|---|---|\n| 1e-10 |  1 |  2 |\n| 1e-01 |  1 |  2 |\n| 1e-10 | 15 |  2 |\n| 1e-01 | 15 |  2 |\n| 1e-10 |  1 | 40 |\n| 1e-01 |  1 | 40 |\n| 1e-10 | 15 | 40 |\n| 1e-01 | 15 | 40 |\n\n",
            "text/latex": "A tibble: 8 × 3\n\\begin{tabular}{lll}\n cost\\_complexity & tree\\_depth & min\\_n\\\\\n <dbl> & <int> & <int>\\\\\n\\hline\n\t 1e-10 &  1 &  2\\\\\n\t 1e-01 &  1 &  2\\\\\n\t 1e-10 & 15 &  2\\\\\n\t 1e-01 & 15 &  2\\\\\n\t 1e-10 &  1 & 40\\\\\n\t 1e-01 &  1 & 40\\\\\n\t 1e-10 & 15 & 40\\\\\n\t 1e-01 & 15 & 40\\\\\n\\end{tabular}\n",
            "text/plain": [
              "  cost_complexity tree_depth min_n\n",
              "1 1e-10            1          2   \n",
              "2 1e-01            1          2   \n",
              "3 1e-10           15          2   \n",
              "4 1e-01           15          2   \n",
              "5 1e-10            1         40   \n",
              "6 1e-01            1         40   \n",
              "7 1e-10           15         40   \n",
              "8 1e-01           15         40   "
            ]
          },
          "metadata": {}
        }
      ]
    },
    {
      "cell_type": "markdown",
      "source": [
        "Ajustando hiperparâmetros com tune_grid():\n",
        "Para encontrar a combinação ideal de hiperparâmetros de nossa grade de ajuste, usaremos a função tune_grid()"
      ],
      "metadata": {
        "id": "3qmgkR5jwFQc"
      }
    },
    {
      "cell_type": "code",
      "source": [
        "set.seed(314)\n",
        "tree_tuning <- tree_workflow |>\n",
        "               tune_grid(resamples = cv,\n",
        "                         grid = tree_grid)"
      ],
      "metadata": {
        "id": "xlwEsrviwE62"
      },
      "execution_count": 22,
      "outputs": []
    },
    {
      "cell_type": "markdown",
      "source": [
        "Para visualizar os resultados do ajuste de hiperparâmetros, pode-se utilizar a função show_best(). Deve se passado o tipo de métrica de desempenho que deseja ver na função show_best().\n",
        "\n",
        "A partir dos resultados abaixo, para cada combinação de hiperparâmetros na grade, tune_grid() ajusta um modelo de árvore de decisão com essa combinação 5 vezes (já que temos 5 dobras em nosso objeto de validação cruzada).\n",
        "\n",
        "A coluna dos resultados mean abaixo indica o valor médio da métrica de desempenho que foi obtida.\n"
      ],
      "metadata": {
        "id": "zUjakxoUwPVr"
      }
    },
    {
      "cell_type": "code",
      "source": [
        "tree_tuning |> show_best(metric = \"rmse\")"
      ],
      "metadata": {
        "colab": {
          "base_uri": "https://localhost:8080/",
          "height": 255
        },
        "id": "dOvysWrUwQTV",
        "outputId": "acffdd02-eade-4103-c4b0-3b4b489bcbbe"
      },
      "execution_count": 23,
      "outputs": [
        {
          "output_type": "display_data",
          "data": {
            "text/html": [
              "<table class=\"dataframe\">\n",
              "<caption>A tibble: 5 × 9</caption>\n",
              "<thead>\n",
              "\t<tr><th scope=col>cost_complexity</th><th scope=col>tree_depth</th><th scope=col>min_n</th><th scope=col>.metric</th><th scope=col>.estimator</th><th scope=col>mean</th><th scope=col>n</th><th scope=col>std_err</th><th scope=col>.config</th></tr>\n",
              "\t<tr><th scope=col>&lt;dbl&gt;</th><th scope=col>&lt;int&gt;</th><th scope=col>&lt;int&gt;</th><th scope=col>&lt;chr&gt;</th><th scope=col>&lt;chr&gt;</th><th scope=col>&lt;dbl&gt;</th><th scope=col>&lt;int&gt;</th><th scope=col>&lt;dbl&gt;</th><th scope=col>&lt;chr&gt;</th></tr>\n",
              "</thead>\n",
              "<tbody>\n",
              "\t<tr><td>1e-10</td><td>15</td><td> 2</td><td>rmse</td><td>standard</td><td>0.09535053</td><td>5</td><td>0.006510618</td><td>Preprocessor1_Model3</td></tr>\n",
              "\t<tr><td>1e-10</td><td>15</td><td>40</td><td>rmse</td><td>standard</td><td>0.14490914</td><td>5</td><td>0.009520106</td><td>Preprocessor1_Model7</td></tr>\n",
              "\t<tr><td>1e-01</td><td>15</td><td> 2</td><td>rmse</td><td>standard</td><td>0.17454644</td><td>5</td><td>0.007544889</td><td>Preprocessor1_Model4</td></tr>\n",
              "\t<tr><td>1e-01</td><td>15</td><td>40</td><td>rmse</td><td>standard</td><td>0.17454644</td><td>5</td><td>0.007544889</td><td>Preprocessor1_Model8</td></tr>\n",
              "\t<tr><td>1e-10</td><td> 1</td><td> 2</td><td>rmse</td><td>standard</td><td>0.23833041</td><td>5</td><td>0.009373040</td><td>Preprocessor1_Model1</td></tr>\n",
              "</tbody>\n",
              "</table>\n"
            ],
            "text/markdown": "\nA tibble: 5 × 9\n\n| cost_complexity &lt;dbl&gt; | tree_depth &lt;int&gt; | min_n &lt;int&gt; | .metric &lt;chr&gt; | .estimator &lt;chr&gt; | mean &lt;dbl&gt; | n &lt;int&gt; | std_err &lt;dbl&gt; | .config &lt;chr&gt; |\n|---|---|---|---|---|---|---|---|---|\n| 1e-10 | 15 |  2 | rmse | standard | 0.09535053 | 5 | 0.006510618 | Preprocessor1_Model3 |\n| 1e-10 | 15 | 40 | rmse | standard | 0.14490914 | 5 | 0.009520106 | Preprocessor1_Model7 |\n| 1e-01 | 15 |  2 | rmse | standard | 0.17454644 | 5 | 0.007544889 | Preprocessor1_Model4 |\n| 1e-01 | 15 | 40 | rmse | standard | 0.17454644 | 5 | 0.007544889 | Preprocessor1_Model8 |\n| 1e-10 |  1 |  2 | rmse | standard | 0.23833041 | 5 | 0.009373040 | Preprocessor1_Model1 |\n\n",
            "text/latex": "A tibble: 5 × 9\n\\begin{tabular}{lllllllll}\n cost\\_complexity & tree\\_depth & min\\_n & .metric & .estimator & mean & n & std\\_err & .config\\\\\n <dbl> & <int> & <int> & <chr> & <chr> & <dbl> & <int> & <dbl> & <chr>\\\\\n\\hline\n\t 1e-10 & 15 &  2 & rmse & standard & 0.09535053 & 5 & 0.006510618 & Preprocessor1\\_Model3\\\\\n\t 1e-10 & 15 & 40 & rmse & standard & 0.14490914 & 5 & 0.009520106 & Preprocessor1\\_Model7\\\\\n\t 1e-01 & 15 &  2 & rmse & standard & 0.17454644 & 5 & 0.007544889 & Preprocessor1\\_Model4\\\\\n\t 1e-01 & 15 & 40 & rmse & standard & 0.17454644 & 5 & 0.007544889 & Preprocessor1\\_Model8\\\\\n\t 1e-10 &  1 &  2 & rmse & standard & 0.23833041 & 5 & 0.009373040 & Preprocessor1\\_Model1\\\\\n\\end{tabular}\n",
            "text/plain": [
              "  cost_complexity tree_depth min_n .metric .estimator mean       n std_err    \n",
              "1 1e-10           15          2    rmse    standard   0.09535053 5 0.006510618\n",
              "2 1e-10           15         40    rmse    standard   0.14490914 5 0.009520106\n",
              "3 1e-01           15          2    rmse    standard   0.17454644 5 0.007544889\n",
              "4 1e-01           15         40    rmse    standard   0.17454644 5 0.007544889\n",
              "5 1e-10            1          2    rmse    standard   0.23833041 5 0.009373040\n",
              "  .config             \n",
              "1 Preprocessor1_Model3\n",
              "2 Preprocessor1_Model7\n",
              "3 Preprocessor1_Model4\n",
              "4 Preprocessor1_Model8\n",
              "5 Preprocessor1_Model1"
            ]
          },
          "metadata": {}
        }
      ]
    },
    {
      "cell_type": "markdown",
      "source": [
        "Pode-se utiliar o select_best() modelo para selecionar o modelo dos resultados de ajuste que teve o melhor desempenho geral. No código abaixo, é especificado para selecionar o melhor modelo de desempenho com base no rmse (calcula o quão próximo os pontos de dados reais estão dos valores previstos pelo modelo e é usado para medir o desvio padrão dos resíduos).\n",
        "\n",
        "Vemos que o modelo com complexidade de custo de 1 -10 , profundidade de árvore de 15 e mínimo n de 40 produziu o melhor modelo."
      ],
      "metadata": {
        "id": "iImJMhv1wTg0"
      }
    },
    {
      "cell_type": "code",
      "source": [
        "best_tree <- tree_tuning |> \n",
        "             select_best(metric = \"rmse\")\n",
        "best_tree             "
      ],
      "metadata": {
        "colab": {
          "base_uri": "https://localhost:8080/",
          "height": 129
        },
        "id": "f9gL1lC6wShb",
        "outputId": "ea37c67f-1085-4bcc-ef3e-9c21e5f958f9"
      },
      "execution_count": 25,
      "outputs": [
        {
          "output_type": "display_data",
          "data": {
            "text/html": [
              "<table class=\"dataframe\">\n",
              "<caption>A tibble: 1 × 4</caption>\n",
              "<thead>\n",
              "\t<tr><th scope=col>cost_complexity</th><th scope=col>tree_depth</th><th scope=col>min_n</th><th scope=col>.config</th></tr>\n",
              "\t<tr><th scope=col>&lt;dbl&gt;</th><th scope=col>&lt;int&gt;</th><th scope=col>&lt;int&gt;</th><th scope=col>&lt;chr&gt;</th></tr>\n",
              "</thead>\n",
              "<tbody>\n",
              "\t<tr><td>1e-10</td><td>15</td><td>2</td><td>Preprocessor1_Model3</td></tr>\n",
              "</tbody>\n",
              "</table>\n"
            ],
            "text/markdown": "\nA tibble: 1 × 4\n\n| cost_complexity &lt;dbl&gt; | tree_depth &lt;int&gt; | min_n &lt;int&gt; | .config &lt;chr&gt; |\n|---|---|---|---|\n| 1e-10 | 15 | 2 | Preprocessor1_Model3 |\n\n",
            "text/latex": "A tibble: 1 × 4\n\\begin{tabular}{llll}\n cost\\_complexity & tree\\_depth & min\\_n & .config\\\\\n <dbl> & <int> & <int> & <chr>\\\\\n\\hline\n\t 1e-10 & 15 & 2 & Preprocessor1\\_Model3\\\\\n\\end{tabular}\n",
            "text/plain": [
              "  cost_complexity tree_depth min_n .config             \n",
              "1 1e-10           15         2     Preprocessor1_Model3"
            ]
          },
          "metadata": {}
        }
      ]
    },
    {
      "cell_type": "markdown",
      "source": [
        "**Finalizar fluxo de trabalho:**\n",
        "\n",
        "A última etapa no ajuste de hiperparâmetro é usar finalize_workflow() para adicionar no modelo ideal ao objeto de fluxo de trabalho."
      ],
      "metadata": {
        "id": "vb9khPIawauD"
      }
    },
    {
      "cell_type": "code",
      "source": [
        "final_tree_workflow <- tree_workflow |>\n",
        "                       finalize_workflow(best_tree)"
      ],
      "metadata": {
        "id": "YyB5UQndwZe6"
      },
      "execution_count": 26,
      "outputs": []
    },
    {
      "cell_type": "markdown",
      "source": [
        "**Visualizar resultados e Ajustar o modelo:**\n",
        "\n",
        "Para visualizar o modelo de árvore de decisão, precisa treinar manualmente o objeto de fluxo de trabalho com a função fit()."
      ],
      "metadata": {
        "id": "SAUUhZ56wemr"
      }
    },
    {
      "cell_type": "code",
      "source": [
        "tree_wf_fit <- final_tree_workflow |> \n",
        "               fit(data = dados_treinamento)"
      ],
      "metadata": {
        "id": "aXA2k7D2wfna"
      },
      "execution_count": 27,
      "outputs": []
    },
    {
      "cell_type": "markdown",
      "source": [
        "**Explorando o modelo treinado:**\n",
        "\n",
        "Uma vez que é treinado o modelo em no conjunto de dados de treinamento, pode-se estudar a importância variável com a função vip().\n",
        "\n",
        "A primeira etapa é extrair o modelo treinado de nosso ajuste de fluxo de trabalho, tree_wf_fit. Isso pode ser feito passando tree_wf_fit para a função extract_fit_parsnip()."
      ],
      "metadata": {
        "id": "-9Mlw5aJwiGs"
      }
    },
    {
      "cell_type": "code",
      "source": [
        "tree_fit <- tree_wf_fit |>\n",
        "            extract_fit_parsnip()"
      ],
      "metadata": {
        "id": "5LpQD1SqwjwT"
      },
      "execution_count": 28,
      "outputs": []
    },
    {
      "cell_type": "markdown",
      "source": [
        "**Importância das variáveis:**\n",
        "\n",
        "Em seguida passamos tree_fit para a função vip(). Isso retornará um ggplot com as pontuações de importância da variável do modelo. As pontuações de importância são baseadas nos critérios de divisão da árvore de decisão treinada.\n",
        "\n",
        "Analisando o resultados do gráfico abaixo as variáveis: localizacao_Urbano, sexo_Masculino, cor_raca_Negra são os preditores mais importantes para rendimento médio."
      ],
      "metadata": {
        "id": "a5deutdkwlnL"
      }
    },
    {
      "cell_type": "code",
      "source": [
        "vip(tree_fit) +\n",
        "   ggtitle(\"Variáveis de maior importância\")"
      ],
      "metadata": {
        "colab": {
          "base_uri": "https://localhost:8080/",
          "height": 437
        },
        "id": "daosCpcGwmiq",
        "outputId": "32588feb-eb68-4899-9a46-5f89be883653"
      },
      "execution_count": 29,
      "outputs": [
        {
          "output_type": "display_data",
          "data": {
            "text/plain": [
              "plot without title"
            ],
            "image/png": "[encoded data removed]"
          },
          "metadata": {
            "image/png": {
              "width": 420,
              "height": 420
            }
          }
        }
      ]
    },
    {
      "cell_type": "markdown",
      "source": [
        "**Gráfico da Árvore de Decisão**\n",
        "\n",
        "Visualizando a árvore de decisão treinada usando a função rpart.plot() do pacote rpart.plot. Deve-se passar o objeto fit armazenado dentro tree_fit da função rpart.plot() para fazer um gráfico de árvore de decisão."
      ],
      "metadata": {
        "id": "D37aaPXVwsJ8"
      }
    },
    {
      "cell_type": "code",
      "source": [
        "rpart.plot(tree_fit$fit, roundint = FALSE)"
      ],
      "metadata": {
        "colab": {
          "base_uri": "https://localhost:8080/",
          "height": 437
        },
        "id": "FaGAbAXuwvGK",
        "outputId": "d0ab4d25-8474-4a5e-e135-6f3e38439908"
      },
      "execution_count": 30,
      "outputs": [
        {
          "output_type": "display_data",
          "data": {
            "text/plain": [
              "plot without title"
            ],
            "image/png": "[encoded data removed]"
          },
          "metadata": {
            "image/png": {
              "width": 420,
              "height": 420
            }
          }
        }
      ]
    },
    {
      "cell_type": "markdown",
      "source": [
        "**Treinando e avaliando o modelo:**\n",
        "\n",
        "Ajustando o fluxo de trabalho do modelo final aos dados de treinamento e avaliando o desempenho nos dados de teste.\n",
        "\n",
        "A função last_fit() ajustará o fluxo de trabalho aos dados de treinamento e gerará previsões nos dados de teste conforme definido pela divisão dos dados."
      ],
      "metadata": {
        "id": "vX0fefy6wuCL"
      }
    },
    {
      "cell_type": "code",
      "source": [
        "tree_last_fit <- final_tree_workflow |>\n",
        "                 last_fit(divisao_dados)"
      ],
      "metadata": {
        "id": "3-Cce9O3wzHb"
      },
      "execution_count": 31,
      "outputs": []
    },
    {
      "cell_type": "markdown",
      "source": [
        "Visualizando as métricas de desempenho nos dados de teste"
      ],
      "metadata": {
        "id": "8x0LhdIfw1MM"
      }
    },
    {
      "cell_type": "code",
      "source": [
        "tree_last_fit |> \n",
        "  collect_metrics(truth = rendimento, estimate = .pred)"
      ],
      "metadata": {
        "colab": {
          "base_uri": "https://localhost:8080/",
          "height": 161
        },
        "id": "zax-slTIw2YT",
        "outputId": "56d40805-97a7-4759-c09c-ab1267309553"
      },
      "execution_count": 32,
      "outputs": [
        {
          "output_type": "display_data",
          "data": {
            "text/html": [
              "<table class=\"dataframe\">\n",
              "<caption>A tibble: 2 × 4</caption>\n",
              "<thead>\n",
              "\t<tr><th scope=col>.metric</th><th scope=col>.estimator</th><th scope=col>.estimate</th><th scope=col>.config</th></tr>\n",
              "\t<tr><th scope=col>&lt;chr&gt;</th><th scope=col>&lt;chr&gt;</th><th scope=col>&lt;dbl&gt;</th><th scope=col>&lt;chr&gt;</th></tr>\n",
              "</thead>\n",
              "<tbody>\n",
              "\t<tr><td>rmse</td><td>standard</td><td>0.1116695</td><td>Preprocessor1_Model1</td></tr>\n",
              "\t<tr><td>rsq </td><td>standard</td><td>0.9109596</td><td>Preprocessor1_Model1</td></tr>\n",
              "</tbody>\n",
              "</table>\n"
            ],
            "text/markdown": "\nA tibble: 2 × 4\n\n| .metric &lt;chr&gt; | .estimator &lt;chr&gt; | .estimate &lt;dbl&gt; | .config &lt;chr&gt; |\n|---|---|---|---|\n| rmse | standard | 0.1116695 | Preprocessor1_Model1 |\n| rsq  | standard | 0.9109596 | Preprocessor1_Model1 |\n\n",
            "text/latex": "A tibble: 2 × 4\n\\begin{tabular}{llll}\n .metric & .estimator & .estimate & .config\\\\\n <chr> & <chr> & <dbl> & <chr>\\\\\n\\hline\n\t rmse & standard & 0.1116695 & Preprocessor1\\_Model1\\\\\n\t rsq  & standard & 0.9109596 & Preprocessor1\\_Model1\\\\\n\\end{tabular}\n",
            "text/plain": [
              "  .metric .estimator .estimate .config             \n",
              "1 rmse    standard   0.1116695 Preprocessor1_Model1\n",
              "2 rsq     standard   0.9109596 Preprocessor1_Model1"
            ]
          },
          "metadata": {}
        }
      ]
    },
    {
      "cell_type": "code",
      "source": [
        "tree_last_fit <- \n",
        "  dados_teste |>\n",
        "  select(rendimento) |>\n",
        "  bind_cols(\n",
        "    collect_predictions(tree_last_fit, new_data = dados_teste)\n",
        "  )\n",
        "tree_last_fit <- janitor::clean_names(tree_last_fit)\n",
        "tree_last_fit <- \n",
        "  tree_last_fit |>\n",
        "  rename(rendimento = rendimento_1) \n",
        "tree_last_fit |> select(rendimento,pred)"
      ],
      "metadata": {
        "colab": {
          "base_uri": "https://localhost:8080/",
          "height": 1000
        },
        "id": "z9SCv9E6w45r",
        "outputId": "13387298-2606-40a2-9bdf-87a1663934be"
      },
      "execution_count": 33,
      "outputs": [
        {
          "output_type": "stream",
          "name": "stderr",
          "text": [
            "\u001b[1m\u001b[22mNew names:\n",
            "\u001b[36m•\u001b[39m `rendimento` -> `rendimento...1`\n",
            "\u001b[36m•\u001b[39m `rendimento` -> `rendimento...5`\n"
          ]
        },
        {
          "output_type": "display_data",
          "data": {
            "text/html": [
              "<table class=\"dataframe\">\n",
              "<caption>A tibble: 40 × 2</caption>\n",
              "<thead>\n",
              "\t<tr><th scope=col>rendimento</th><th scope=col>pred</th></tr>\n",
              "\t<tr><th scope=col>&lt;dbl&gt;</th><th scope=col>&lt;dbl&gt;</th></tr>\n",
              "</thead>\n",
              "<tbody>\n",
              "\t<tr><td>2.689753</td><td>2.731253</td></tr>\n",
              "\t<tr><td>2.983626</td><td>2.991622</td></tr>\n",
              "\t<tr><td>2.984122</td><td>2.991622</td></tr>\n",
              "\t<tr><td>3.369012</td><td>3.391497</td></tr>\n",
              "\t<tr><td>2.924796</td><td>2.991622</td></tr>\n",
              "\t<tr><td>3.052078</td><td>3.113976</td></tr>\n",
              "\t<tr><td>3.314415</td><td>3.391497</td></tr>\n",
              "\t<tr><td>2.685652</td><td>2.731253</td></tr>\n",
              "\t<tr><td>3.103633</td><td>3.113976</td></tr>\n",
              "\t<tr><td>3.379614</td><td>3.391497</td></tr>\n",
              "\t<tr><td>2.785828</td><td>2.731253</td></tr>\n",
              "\t<tr><td>3.408799</td><td>3.391497</td></tr>\n",
              "\t<tr><td>2.817433</td><td>2.731253</td></tr>\n",
              "\t<tr><td>3.127267</td><td>2.991622</td></tr>\n",
              "\t<tr><td>3.112169</td><td>2.991622</td></tr>\n",
              "\t<tr><td>3.207930</td><td>3.113976</td></tr>\n",
              "\t<tr><td>3.141450</td><td>3.183288</td></tr>\n",
              "\t<tr><td>3.174234</td><td>3.183288</td></tr>\n",
              "\t<tr><td>2.878464</td><td>2.932935</td></tr>\n",
              "\t<tr><td>3.173536</td><td>3.183288</td></tr>\n",
              "\t<tr><td>2.882866</td><td>2.932935</td></tr>\n",
              "\t<tr><td>3.147553</td><td>3.183288</td></tr>\n",
              "\t<tr><td>2.409257</td><td>2.519559</td></tr>\n",
              "\t<tr><td>2.859978</td><td>2.932935</td></tr>\n",
              "\t<tr><td>3.134241</td><td>3.183288</td></tr>\n",
              "\t<tr><td>2.169968</td><td>2.284740</td></tr>\n",
              "\t<tr><td>3.095204</td><td>3.183288</td></tr>\n",
              "\t<tr><td>2.904391</td><td>2.932935</td></tr>\n",
              "\t<tr><td>2.552668</td><td>2.519559</td></tr>\n",
              "\t<tr><td>2.355068</td><td>2.284740</td></tr>\n",
              "\t<tr><td>2.584105</td><td>2.519559</td></tr>\n",
              "\t<tr><td>2.409087</td><td>2.284740</td></tr>\n",
              "\t<tr><td>2.681060</td><td>2.519559</td></tr>\n",
              "\t<tr><td>3.045323</td><td>2.932935</td></tr>\n",
              "\t<tr><td>3.282713</td><td>3.183288</td></tr>\n",
              "\t<tr><td>2.544564</td><td>2.284740</td></tr>\n",
              "\t<tr><td>3.293782</td><td>3.183288</td></tr>\n",
              "\t<tr><td>2.553640</td><td>2.284740</td></tr>\n",
              "\t<tr><td>2.798927</td><td>2.519559</td></tr>\n",
              "\t<tr><td>2.554489</td><td>2.284740</td></tr>\n",
              "</tbody>\n",
              "</table>\n"
            ],
            "text/markdown": "\nA tibble: 40 × 2\n\n| rendimento &lt;dbl&gt; | pred &lt;dbl&gt; |\n|---|---|\n| 2.689753 | 2.731253 |\n| 2.983626 | 2.991622 |\n| 2.984122 | 2.991622 |\n| 3.369012 | 3.391497 |\n| 2.924796 | 2.991622 |\n| 3.052078 | 3.113976 |\n| 3.314415 | 3.391497 |\n| 2.685652 | 2.731253 |\n| 3.103633 | 3.113976 |\n| 3.379614 | 3.391497 |\n| 2.785828 | 2.731253 |\n| 3.408799 | 3.391497 |\n| 2.817433 | 2.731253 |\n| 3.127267 | 2.991622 |\n| 3.112169 | 2.991622 |\n| 3.207930 | 3.113976 |\n| 3.141450 | 3.183288 |\n| 3.174234 | 3.183288 |\n| 2.878464 | 2.932935 |\n| 3.173536 | 3.183288 |\n| 2.882866 | 2.932935 |\n| 3.147553 | 3.183288 |\n| 2.409257 | 2.519559 |\n| 2.859978 | 2.932935 |\n| 3.134241 | 3.183288 |\n| 2.169968 | 2.284740 |\n| 3.095204 | 3.183288 |\n| 2.904391 | 2.932935 |\n| 2.552668 | 2.519559 |\n| 2.355068 | 2.284740 |\n| 2.584105 | 2.519559 |\n| 2.409087 | 2.284740 |\n| 2.681060 | 2.519559 |\n| 3.045323 | 2.932935 |\n| 3.282713 | 3.183288 |\n| 2.544564 | 2.284740 |\n| 3.293782 | 3.183288 |\n| 2.553640 | 2.284740 |\n| 2.798927 | 2.519559 |\n| 2.554489 | 2.284740 |\n\n",
            "text/latex": "A tibble: 40 × 2\n\\begin{tabular}{ll}\n rendimento & pred\\\\\n <dbl> & <dbl>\\\\\n\\hline\n\t 2.689753 & 2.731253\\\\\n\t 2.983626 & 2.991622\\\\\n\t 2.984122 & 2.991622\\\\\n\t 3.369012 & 3.391497\\\\\n\t 2.924796 & 2.991622\\\\\n\t 3.052078 & 3.113976\\\\\n\t 3.314415 & 3.391497\\\\\n\t 2.685652 & 2.731253\\\\\n\t 3.103633 & 3.113976\\\\\n\t 3.379614 & 3.391497\\\\\n\t 2.785828 & 2.731253\\\\\n\t 3.408799 & 3.391497\\\\\n\t 2.817433 & 2.731253\\\\\n\t 3.127267 & 2.991622\\\\\n\t 3.112169 & 2.991622\\\\\n\t 3.207930 & 3.113976\\\\\n\t 3.141450 & 3.183288\\\\\n\t 3.174234 & 3.183288\\\\\n\t 2.878464 & 2.932935\\\\\n\t 3.173536 & 3.183288\\\\\n\t 2.882866 & 2.932935\\\\\n\t 3.147553 & 3.183288\\\\\n\t 2.409257 & 2.519559\\\\\n\t 2.859978 & 2.932935\\\\\n\t 3.134241 & 3.183288\\\\\n\t 2.169968 & 2.284740\\\\\n\t 3.095204 & 3.183288\\\\\n\t 2.904391 & 2.932935\\\\\n\t 2.552668 & 2.519559\\\\\n\t 2.355068 & 2.284740\\\\\n\t 2.584105 & 2.519559\\\\\n\t 2.409087 & 2.284740\\\\\n\t 2.681060 & 2.519559\\\\\n\t 3.045323 & 2.932935\\\\\n\t 3.282713 & 3.183288\\\\\n\t 2.544564 & 2.284740\\\\\n\t 3.293782 & 3.183288\\\\\n\t 2.553640 & 2.284740\\\\\n\t 2.798927 & 2.519559\\\\\n\t 2.554489 & 2.284740\\\\\n\\end{tabular}\n",
            "text/plain": [
              "   rendimento pred    \n",
              "1  2.689753   2.731253\n",
              "2  2.983626   2.991622\n",
              "3  2.984122   2.991622\n",
              "4  3.369012   3.391497\n",
              "5  2.924796   2.991622\n",
              "6  3.052078   3.113976\n",
              "7  3.314415   3.391497\n",
              "8  2.685652   2.731253\n",
              "9  3.103633   3.113976\n",
              "10 3.379614   3.391497\n",
              "11 2.785828   2.731253\n",
              "12 3.408799   3.391497\n",
              "13 2.817433   2.731253\n",
              "14 3.127267   2.991622\n",
              "15 3.112169   2.991622\n",
              "16 3.207930   3.113976\n",
              "17 3.141450   3.183288\n",
              "18 3.174234   3.183288\n",
              "19 2.878464   2.932935\n",
              "20 3.173536   3.183288\n",
              "21 2.882866   2.932935\n",
              "22 3.147553   3.183288\n",
              "23 2.409257   2.519559\n",
              "24 2.859978   2.932935\n",
              "25 3.134241   3.183288\n",
              "26 2.169968   2.284740\n",
              "27 3.095204   3.183288\n",
              "28 2.904391   2.932935\n",
              "29 2.552668   2.519559\n",
              "30 2.355068   2.284740\n",
              "31 2.584105   2.519559\n",
              "32 2.409087   2.284740\n",
              "33 2.681060   2.519559\n",
              "34 3.045323   2.932935\n",
              "35 3.282713   3.183288\n",
              "36 2.544564   2.284740\n",
              "37 3.293782   3.183288\n",
              "38 2.553640   2.284740\n",
              "39 2.798927   2.519559\n",
              "40 2.554489   2.284740"
            ]
          },
          "metadata": {}
        }
      ]
    },
    {
      "cell_type": "markdown",
      "source": [
        "# **Floresta Aleatória:**\n",
        "\n",
        "O modelo de Florestas aleatórias pegam árvores de decisão e constroem modelos mais poderosos em termos de precisão e previsão. O principal mecanismo que alimenta esse algoritmo é a amostragem repetida (com substituição) dos dados de treinamento para produzir uma sequência de modelos de árvore de decisão. Esses modelos são calculados para obter uma única previsão para um determinado valor no espaço do preditor.\n",
        "\n",
        "O modelo de floresta aleatória seleciona um subconjunto aleatório de variáveis de previsão para dividir o espaço de previsão no processo de construção da árvore. Isso é feito para cada iteração do algoritmo, normalmente 100 a 2.000 vezes."
      ],
      "metadata": {
        "id": "KucPdqnLw8tz"
      }
    },
    {
      "cell_type": "markdown",
      "source": [
        "**Engenharia de Recurso:**\n",
        "\n",
        "Especificação de um classificador de floresta aleatória com os seguintes hiperparâmetros:\n",
        "\n",
        "- mtry: o número de preditores que serão amostrados aleatoriamente em cada divisão ao criar os modelos de árvore\n",
        "- trees: O número de árvores de decisão a serem ajustadas e, finalmente, a média\n",
        "- min_n: O número mínimo de pontos de dados em um nó que são necessários para que o nó seja dividido ainda mais\n",
        "\n",
        "Será utilizado a engenharia de randomForest"
      ],
      "metadata": {
        "id": "aUopAUARxBux"
      }
    },
    {
      "cell_type": "code",
      "source": [
        "rf_model <- rand_forest(\n",
        "    mode = \"regression\",\n",
        "    mtry = tune(),\n",
        "    trees = tune()\n",
        "  ) |>\n",
        "  set_engine(\"randomForest\")\n",
        "rf_model"
      ],
      "metadata": {
        "colab": {
          "base_uri": "https://localhost:8080/",
          "height": 139
        },
        "id": "mkm3GSz8xIgD",
        "outputId": "6fec109e-7ba9-4186-9749-28fec9120f09"
      },
      "execution_count": 34,
      "outputs": [
        {
          "output_type": "display_data",
          "data": {
            "text/plain": [
              "Random Forest Model Specification (regression)\n",
              "\n",
              "Main Arguments:\n",
              "  mtry = tune()\n",
              "  trees = tune()\n",
              "\n",
              "Computational engine: randomForest \n"
            ]
          },
          "metadata": {}
        }
      ]
    },
    {
      "cell_type": "markdown",
      "source": [
        "**Fluxo de trabalho:**\n",
        "\n",
        "Em seguida, será combinado o modelo e a receita em um fluxo de trabalho para gerenciar facilmente o processo de construção do modelo."
      ],
      "metadata": {
        "id": "Kq4t0Ys0xK-k"
      }
    },
    {
      "cell_type": "code",
      "source": [
        "rf_workflow <- workflow() |>\n",
        "               add_model(rf_model) |>\n",
        "               add_recipe(receita)"
      ],
      "metadata": {
        "id": "H4ydS27IxNd6"
      },
      "execution_count": 35,
      "outputs": []
    },
    {
      "cell_type": "markdown",
      "source": [
        "**Ajuste de hiperparâmetro:**\n",
        "\n",
        "A pesquisa de grade aleatória é implementada com a função grid_random() em tidymodels. Como se grid_regular() fosse uma sequência de nomes de hiperparâmetros para criar a grade. Ele também possui um size parâmetro que especifica o número de combinações aleatórias a serem criadas.\n",
        "\n",
        "O mtry() hiperparâmetro requer um intervalo predefinido de valores para teste, pois não pode exceder o número de colunas em no conjunto de dados. Quando é adicionado o grid_random(), pode-se passar mtry()para a função range_set() e definir um intervalo para o hiperparâmetro com um vetor numérico."
      ],
      "metadata": {
        "id": "Q4lEXpK8xPjM"
      }
    },
    {
      "cell_type": "code",
      "source": [
        "set.seed(300)\n",
        "dials_random <- grid_random(\n",
        "  mtry(c(1, ncol(dados_treinamento) - 1)),\n",
        "  trees(),\n",
        "  size = 6\n",
        ")"
      ],
      "metadata": {
        "id": "tj3WjuVUxSXE"
      },
      "execution_count": 40,
      "outputs": []
    },
    {
      "cell_type": "markdown",
      "source": [
        "**Ajustando hiperparâmetros com tune_grid()**\n",
        "\n",
        "Para encontrar a combinação ideal de hiperparâmetros da grade de ajuste, utiliza-se a função tune_grid()."
      ],
      "metadata": {
        "id": "CZ9fLS9WxXh8"
      }
    },
    {
      "cell_type": "code",
      "source": [
        "set.seed(300)\n",
        "rf_tuning <-\n",
        "  rf_workflow |>\n",
        "  tune_grid(\n",
        "    resamples = cv, grid = dials_random\n",
        "  )\n",
        "show_best(rf_tuning, n = 1)"
      ],
      "metadata": {
        "colab": {
          "base_uri": "https://localhost:8080/",
          "height": 164
        },
        "id": "2dqiOd2BxaF9",
        "outputId": "678214e3-63bb-4b3c-a175-2f9231503aef"
      },
      "execution_count": 45,
      "outputs": [
        {
          "output_type": "stream",
          "name": "stderr",
          "text": [
            "Warning message:\n",
            "“No value of `metric` was given; metric 'rmse' will be used.”\n"
          ]
        },
        {
          "output_type": "display_data",
          "data": {
            "text/html": [
              "<table class=\"dataframe\">\n",
              "<caption>A tibble: 1 × 8</caption>\n",
              "<thead>\n",
              "\t<tr><th scope=col>mtry</th><th scope=col>trees</th><th scope=col>.metric</th><th scope=col>.estimator</th><th scope=col>mean</th><th scope=col>n</th><th scope=col>std_err</th><th scope=col>.config</th></tr>\n",
              "\t<tr><th scope=col>&lt;int&gt;</th><th scope=col>&lt;int&gt;</th><th scope=col>&lt;chr&gt;</th><th scope=col>&lt;chr&gt;</th><th scope=col>&lt;dbl&gt;</th><th scope=col>&lt;int&gt;</th><th scope=col>&lt;dbl&gt;</th><th scope=col>&lt;chr&gt;</th></tr>\n",
              "</thead>\n",
              "<tbody>\n",
              "\t<tr><td>2</td><td>1705</td><td>rmse</td><td>standard</td><td>0.09925889</td><td>5</td><td>0.006925326</td><td>Preprocessor1_Model3</td></tr>\n",
              "</tbody>\n",
              "</table>\n"
            ],
            "text/markdown": "\nA tibble: 1 × 8\n\n| mtry &lt;int&gt; | trees &lt;int&gt; | .metric &lt;chr&gt; | .estimator &lt;chr&gt; | mean &lt;dbl&gt; | n &lt;int&gt; | std_err &lt;dbl&gt; | .config &lt;chr&gt; |\n|---|---|---|---|---|---|---|---|\n| 2 | 1705 | rmse | standard | 0.09925889 | 5 | 0.006925326 | Preprocessor1_Model3 |\n\n",
            "text/latex": "A tibble: 1 × 8\n\\begin{tabular}{llllllll}\n mtry & trees & .metric & .estimator & mean & n & std\\_err & .config\\\\\n <int> & <int> & <chr> & <chr> & <dbl> & <int> & <dbl> & <chr>\\\\\n\\hline\n\t 2 & 1705 & rmse & standard & 0.09925889 & 5 & 0.006925326 & Preprocessor1\\_Model3\\\\\n\\end{tabular}\n",
            "text/plain": [
              "  mtry trees .metric .estimator mean       n std_err     .config             \n",
              "1 2    1705  rmse    standard   0.09925889 5 0.006925326 Preprocessor1_Model3"
            ]
          },
          "metadata": {}
        }
      ]
    },
    {
      "cell_type": "code",
      "source": [
        "best_rf <- rf_tuning |> \n",
        "             select_best()\n",
        "best_rf"
      ],
      "metadata": {
        "colab": {
          "base_uri": "https://localhost:8080/",
          "height": 164
        },
        "id": "T1RjuecAyFsV",
        "outputId": "d487d41a-0d93-41bd-c359-d82b019ec0d7"
      },
      "execution_count": 47,
      "outputs": [
        {
          "output_type": "stream",
          "name": "stderr",
          "text": [
            "Warning message:\n",
            "“No value of `metric` was given; metric 'rmse' will be used.”\n"
          ]
        },
        {
          "output_type": "display_data",
          "data": {
            "text/html": [
              "<table class=\"dataframe\">\n",
              "<caption>A tibble: 1 × 3</caption>\n",
              "<thead>\n",
              "\t<tr><th scope=col>mtry</th><th scope=col>trees</th><th scope=col>.config</th></tr>\n",
              "\t<tr><th scope=col>&lt;int&gt;</th><th scope=col>&lt;int&gt;</th><th scope=col>&lt;chr&gt;</th></tr>\n",
              "</thead>\n",
              "<tbody>\n",
              "\t<tr><td>2</td><td>1705</td><td>Preprocessor1_Model3</td></tr>\n",
              "</tbody>\n",
              "</table>\n"
            ],
            "text/markdown": "\nA tibble: 1 × 3\n\n| mtry &lt;int&gt; | trees &lt;int&gt; | .config &lt;chr&gt; |\n|---|---|---|\n| 2 | 1705 | Preprocessor1_Model3 |\n\n",
            "text/latex": "A tibble: 1 × 3\n\\begin{tabular}{lll}\n mtry & trees & .config\\\\\n <int> & <int> & <chr>\\\\\n\\hline\n\t 2 & 1705 & Preprocessor1\\_Model3\\\\\n\\end{tabular}\n",
            "text/plain": [
              "  mtry trees .config             \n",
              "1 2    1705  Preprocessor1_Model3"
            ]
          },
          "metadata": {}
        }
      ]
    },
    {
      "cell_type": "markdown",
      "source": [
        "**Fluxo de trabalho:**\n",
        "\n",
        "A última etapa no ajuste de hiperparâmetro é usar finalize_workflow() para adicionar no modelo ideal ao objeto de fluxo de trabalho"
      ],
      "metadata": {
        "id": "Xk20Gf3Px36C"
      }
    },
    {
      "cell_type": "code",
      "source": [
        "final_rf_workflow <- rf_workflow |>\n",
        "                     finalize_workflow(best_rf)"
      ],
      "metadata": {
        "id": "eItHK-_HxpM7"
      },
      "execution_count": 48,
      "outputs": []
    },
    {
      "cell_type": "markdown",
      "source": [
        "**Ajuste o modelo:**\n",
        "\n",
        "ajustamos o fluxo de trabalho aos dados de treinamento. Isso é feito passando o objeto de fluxo de trabalho para a função fit().\n"
      ],
      "metadata": {
        "id": "jALSHssByKu9"
      }
    },
    {
      "cell_type": "code",
      "source": [
        "rf_wf_fit <- final_rf_workflow %>% \n",
        "             fit(data = dados_treinamento)"
      ],
      "metadata": {
        "id": "eg699L--yL2j"
      },
      "execution_count": 49,
      "outputs": []
    },
    {
      "cell_type": "markdown",
      "source": [
        "Uma vez que é treinado o modelo no conjunto dados de treinamento, pode-se estudar a importância variável com a função vip().\n",
        "\n",
        "A primeira etapa é extrair o modelo treinado de nosso ajuste de fluxo de trabalho, rf_wf__fit. Isso pode ser feito passando rf_wf__fit para a função extract_fit_parsnip()."
      ],
      "metadata": {
        "id": "sc_ZZEl1yOVN"
      }
    },
    {
      "cell_type": "code",
      "source": [
        "rf_fit <- rf_wf_fit |>\n",
        "          extract_fit_parsnip()"
      ],
      "metadata": {
        "id": "dWjgU9ZGyPz0"
      },
      "execution_count": 50,
      "outputs": []
    },
    {
      "cell_type": "markdown",
      "source": [
        "**Importância variável:**"
      ],
      "metadata": {
        "id": "4YZr9e3myQ9d"
      }
    },
    {
      "cell_type": "code",
      "source": [
        "vip(rf_fit)+\n",
        "     ggtitle(\"Variáveis de maior importância\")"
      ],
      "metadata": {
        "colab": {
          "base_uri": "https://localhost:8080/",
          "height": 437
        },
        "id": "gvzn_TrlyRv7",
        "outputId": "fb177f60-1846-42ad-8c31-cc775354a2e6"
      },
      "execution_count": 51,
      "outputs": [
        {
          "output_type": "display_data",
          "data": {
            "text/plain": [
              "plot without title"
            ],
            "image/png": "[encoded data removed]"
          },
          "metadata": {
            "image/png": {
              "width": 420,
              "height": 420
            }
          }
        }
      ]
    },
    {
      "cell_type": "markdown",
      "source": [
        "**Treine e avalie com last_fit()**\n",
        "\n",
        "Em seguida, ajustamos nosso fluxo de trabalho do modelo final aos dados de treinamento e avaliando o desempenho nos dados de teste.\n",
        "\n",
        "A função last_fit() ajustará nosso fluxo de trabalho aos dados de treinamento e gerará previsões nos dados de teste conforme definido pela divisão de dados."
      ],
      "metadata": {
        "id": "YWN_Jb7WyU6b"
      }
    },
    {
      "cell_type": "code",
      "source": [
        "rf_last_fit <- final_rf_workflow |>\n",
        "               last_fit(divisao_dados)"
      ],
      "metadata": {
        "id": "BLiWxzZkyYUN"
      },
      "execution_count": 52,
      "outputs": []
    },
    {
      "cell_type": "code",
      "source": [
        "rf_last_fit |> \n",
        "  collect_metrics(truth = rendimento, estimate = .pred)"
      ],
      "metadata": {
        "colab": {
          "base_uri": "https://localhost:8080/",
          "height": 161
        },
        "id": "GFIjAdxoyZ5b",
        "outputId": "89e38923-c3b7-4547-a0aa-d0feb364e9df"
      },
      "execution_count": 53,
      "outputs": [
        {
          "output_type": "display_data",
          "data": {
            "text/html": [
              "<table class=\"dataframe\">\n",
              "<caption>A tibble: 2 × 4</caption>\n",
              "<thead>\n",
              "\t<tr><th scope=col>.metric</th><th scope=col>.estimator</th><th scope=col>.estimate</th><th scope=col>.config</th></tr>\n",
              "\t<tr><th scope=col>&lt;chr&gt;</th><th scope=col>&lt;chr&gt;</th><th scope=col>&lt;dbl&gt;</th><th scope=col>&lt;chr&gt;</th></tr>\n",
              "</thead>\n",
              "<tbody>\n",
              "\t<tr><td>rmse</td><td>standard</td><td>0.1042582</td><td>Preprocessor1_Model1</td></tr>\n",
              "\t<tr><td>rsq </td><td>standard</td><td>0.9062645</td><td>Preprocessor1_Model1</td></tr>\n",
              "</tbody>\n",
              "</table>\n"
            ],
            "text/markdown": "\nA tibble: 2 × 4\n\n| .metric &lt;chr&gt; | .estimator &lt;chr&gt; | .estimate &lt;dbl&gt; | .config &lt;chr&gt; |\n|---|---|---|---|\n| rmse | standard | 0.1042582 | Preprocessor1_Model1 |\n| rsq  | standard | 0.9062645 | Preprocessor1_Model1 |\n\n",
            "text/latex": "A tibble: 2 × 4\n\\begin{tabular}{llll}\n .metric & .estimator & .estimate & .config\\\\\n <chr> & <chr> & <dbl> & <chr>\\\\\n\\hline\n\t rmse & standard & 0.1042582 & Preprocessor1\\_Model1\\\\\n\t rsq  & standard & 0.9062645 & Preprocessor1\\_Model1\\\\\n\\end{tabular}\n",
            "text/plain": [
              "  .metric .estimator .estimate .config             \n",
              "1 rmse    standard   0.1042582 Preprocessor1_Model1\n",
              "2 rsq     standard   0.9062645 Preprocessor1_Model1"
            ]
          },
          "metadata": {}
        }
      ]
    },
    {
      "cell_type": "markdown",
      "source": [
        "**Ajustando o modelo aos dados dados de teste:**"
      ],
      "metadata": {
        "id": "phpxKT7WycAc"
      }
    },
    {
      "cell_type": "code",
      "source": [
        "rf_last_fit <- \n",
        "  dados_teste |>\n",
        "  select(rendimento) |>\n",
        "  bind_cols(\n",
        "    collect_predictions(rf_last_fit, new_data = dados_teste)\n",
        "  )\n",
        "rf_last_fit <- janitor::clean_names(rf_last_fit)\n",
        "rf_last_fit <- \n",
        "  rf_last_fit |>\n",
        "  rename(rendimento = rendimento_1) \n",
        "rf_last_fit |> select(rendimento,pred)"
      ],
      "metadata": {
        "colab": {
          "base_uri": "https://localhost:8080/",
          "height": 1000
        },
        "id": "JohKPHsOya8r",
        "outputId": "26b4102c-9454-4e81-83f8-caa4ffebe2de"
      },
      "execution_count": 54,
      "outputs": [
        {
          "output_type": "stream",
          "name": "stderr",
          "text": [
            "\u001b[1m\u001b[22mNew names:\n",
            "\u001b[36m•\u001b[39m `rendimento` -> `rendimento...1`\n",
            "\u001b[36m•\u001b[39m `rendimento` -> `rendimento...5`\n"
          ]
        },
        {
          "output_type": "display_data",
          "data": {
            "text/html": [
              "<table class=\"dataframe\">\n",
              "<caption>A tibble: 40 × 2</caption>\n",
              "<thead>\n",
              "\t<tr><th scope=col>rendimento</th><th scope=col>pred</th></tr>\n",
              "\t<tr><th scope=col>&lt;dbl&gt;</th><th scope=col>&lt;dbl&gt;</th></tr>\n",
              "</thead>\n",
              "<tbody>\n",
              "\t<tr><td>2.689753</td><td>2.747127</td></tr>\n",
              "\t<tr><td>2.983626</td><td>2.956849</td></tr>\n",
              "\t<tr><td>2.984122</td><td>2.956849</td></tr>\n",
              "\t<tr><td>3.369012</td><td>3.350765</td></tr>\n",
              "\t<tr><td>2.924796</td><td>2.956849</td></tr>\n",
              "\t<tr><td>3.052078</td><td>3.113938</td></tr>\n",
              "\t<tr><td>3.314415</td><td>3.350765</td></tr>\n",
              "\t<tr><td>2.685652</td><td>2.747127</td></tr>\n",
              "\t<tr><td>3.103633</td><td>3.113938</td></tr>\n",
              "\t<tr><td>3.379614</td><td>3.350765</td></tr>\n",
              "\t<tr><td>2.785828</td><td>2.747127</td></tr>\n",
              "\t<tr><td>3.408799</td><td>3.350765</td></tr>\n",
              "\t<tr><td>2.817433</td><td>2.747127</td></tr>\n",
              "\t<tr><td>3.127267</td><td>2.956849</td></tr>\n",
              "\t<tr><td>3.112169</td><td>2.956849</td></tr>\n",
              "\t<tr><td>3.207930</td><td>3.113938</td></tr>\n",
              "\t<tr><td>3.141450</td><td>3.165741</td></tr>\n",
              "\t<tr><td>3.174234</td><td>3.165741</td></tr>\n",
              "\t<tr><td>2.878464</td><td>2.950323</td></tr>\n",
              "\t<tr><td>3.173536</td><td>3.165741</td></tr>\n",
              "\t<tr><td>2.882866</td><td>2.950323</td></tr>\n",
              "\t<tr><td>3.147553</td><td>3.165741</td></tr>\n",
              "\t<tr><td>2.409257</td><td>2.523652</td></tr>\n",
              "\t<tr><td>2.859978</td><td>2.950323</td></tr>\n",
              "\t<tr><td>3.134241</td><td>3.165741</td></tr>\n",
              "\t<tr><td>2.169968</td><td>2.344354</td></tr>\n",
              "\t<tr><td>3.095204</td><td>3.165741</td></tr>\n",
              "\t<tr><td>2.904391</td><td>2.950323</td></tr>\n",
              "\t<tr><td>2.552668</td><td>2.523652</td></tr>\n",
              "\t<tr><td>2.355068</td><td>2.344354</td></tr>\n",
              "\t<tr><td>2.584105</td><td>2.523652</td></tr>\n",
              "\t<tr><td>2.409087</td><td>2.344354</td></tr>\n",
              "\t<tr><td>2.681060</td><td>2.523652</td></tr>\n",
              "\t<tr><td>3.045323</td><td>2.950323</td></tr>\n",
              "\t<tr><td>3.282713</td><td>3.165741</td></tr>\n",
              "\t<tr><td>2.544564</td><td>2.344354</td></tr>\n",
              "\t<tr><td>3.293782</td><td>3.165741</td></tr>\n",
              "\t<tr><td>2.553640</td><td>2.344354</td></tr>\n",
              "\t<tr><td>2.798927</td><td>2.523652</td></tr>\n",
              "\t<tr><td>2.554489</td><td>2.344354</td></tr>\n",
              "</tbody>\n",
              "</table>\n"
            ],
            "text/markdown": "\nA tibble: 40 × 2\n\n| rendimento &lt;dbl&gt; | pred &lt;dbl&gt; |\n|---|---|\n| 2.689753 | 2.747127 |\n| 2.983626 | 2.956849 |\n| 2.984122 | 2.956849 |\n| 3.369012 | 3.350765 |\n| 2.924796 | 2.956849 |\n| 3.052078 | 3.113938 |\n| 3.314415 | 3.350765 |\n| 2.685652 | 2.747127 |\n| 3.103633 | 3.113938 |\n| 3.379614 | 3.350765 |\n| 2.785828 | 2.747127 |\n| 3.408799 | 3.350765 |\n| 2.817433 | 2.747127 |\n| 3.127267 | 2.956849 |\n| 3.112169 | 2.956849 |\n| 3.207930 | 3.113938 |\n| 3.141450 | 3.165741 |\n| 3.174234 | 3.165741 |\n| 2.878464 | 2.950323 |\n| 3.173536 | 3.165741 |\n| 2.882866 | 2.950323 |\n| 3.147553 | 3.165741 |\n| 2.409257 | 2.523652 |\n| 2.859978 | 2.950323 |\n| 3.134241 | 3.165741 |\n| 2.169968 | 2.344354 |\n| 3.095204 | 3.165741 |\n| 2.904391 | 2.950323 |\n| 2.552668 | 2.523652 |\n| 2.355068 | 2.344354 |\n| 2.584105 | 2.523652 |\n| 2.409087 | 2.344354 |\n| 2.681060 | 2.523652 |\n| 3.045323 | 2.950323 |\n| 3.282713 | 3.165741 |\n| 2.544564 | 2.344354 |\n| 3.293782 | 3.165741 |\n| 2.553640 | 2.344354 |\n| 2.798927 | 2.523652 |\n| 2.554489 | 2.344354 |\n\n",
            "text/latex": "A tibble: 40 × 2\n\\begin{tabular}{ll}\n rendimento & pred\\\\\n <dbl> & <dbl>\\\\\n\\hline\n\t 2.689753 & 2.747127\\\\\n\t 2.983626 & 2.956849\\\\\n\t 2.984122 & 2.956849\\\\\n\t 3.369012 & 3.350765\\\\\n\t 2.924796 & 2.956849\\\\\n\t 3.052078 & 3.113938\\\\\n\t 3.314415 & 3.350765\\\\\n\t 2.685652 & 2.747127\\\\\n\t 3.103633 & 3.113938\\\\\n\t 3.379614 & 3.350765\\\\\n\t 2.785828 & 2.747127\\\\\n\t 3.408799 & 3.350765\\\\\n\t 2.817433 & 2.747127\\\\\n\t 3.127267 & 2.956849\\\\\n\t 3.112169 & 2.956849\\\\\n\t 3.207930 & 3.113938\\\\\n\t 3.141450 & 3.165741\\\\\n\t 3.174234 & 3.165741\\\\\n\t 2.878464 & 2.950323\\\\\n\t 3.173536 & 3.165741\\\\\n\t 2.882866 & 2.950323\\\\\n\t 3.147553 & 3.165741\\\\\n\t 2.409257 & 2.523652\\\\\n\t 2.859978 & 2.950323\\\\\n\t 3.134241 & 3.165741\\\\\n\t 2.169968 & 2.344354\\\\\n\t 3.095204 & 3.165741\\\\\n\t 2.904391 & 2.950323\\\\\n\t 2.552668 & 2.523652\\\\\n\t 2.355068 & 2.344354\\\\\n\t 2.584105 & 2.523652\\\\\n\t 2.409087 & 2.344354\\\\\n\t 2.681060 & 2.523652\\\\\n\t 3.045323 & 2.950323\\\\\n\t 3.282713 & 3.165741\\\\\n\t 2.544564 & 2.344354\\\\\n\t 3.293782 & 3.165741\\\\\n\t 2.553640 & 2.344354\\\\\n\t 2.798927 & 2.523652\\\\\n\t 2.554489 & 2.344354\\\\\n\\end{tabular}\n",
            "text/plain": [
              "   rendimento pred    \n",
              "1  2.689753   2.747127\n",
              "2  2.983626   2.956849\n",
              "3  2.984122   2.956849\n",
              "4  3.369012   3.350765\n",
              "5  2.924796   2.956849\n",
              "6  3.052078   3.113938\n",
              "7  3.314415   3.350765\n",
              "8  2.685652   2.747127\n",
              "9  3.103633   3.113938\n",
              "10 3.379614   3.350765\n",
              "11 2.785828   2.747127\n",
              "12 3.408799   3.350765\n",
              "13 2.817433   2.747127\n",
              "14 3.127267   2.956849\n",
              "15 3.112169   2.956849\n",
              "16 3.207930   3.113938\n",
              "17 3.141450   3.165741\n",
              "18 3.174234   3.165741\n",
              "19 2.878464   2.950323\n",
              "20 3.173536   3.165741\n",
              "21 2.882866   2.950323\n",
              "22 3.147553   3.165741\n",
              "23 2.409257   2.523652\n",
              "24 2.859978   2.950323\n",
              "25 3.134241   3.165741\n",
              "26 2.169968   2.344354\n",
              "27 3.095204   3.165741\n",
              "28 2.904391   2.950323\n",
              "29 2.552668   2.523652\n",
              "30 2.355068   2.344354\n",
              "31 2.584105   2.523652\n",
              "32 2.409087   2.344354\n",
              "33 2.681060   2.523652\n",
              "34 3.045323   2.950323\n",
              "35 3.282713   3.165741\n",
              "36 2.544564   2.344354\n",
              "37 3.293782   3.165741\n",
              "38 2.553640   2.344354\n",
              "39 2.798927   2.523652\n",
              "40 2.554489   2.344354"
            ]
          },
          "metadata": {}
        }
      ]
    },
    {
      "cell_type": "markdown",
      "source": [
        "Comparando o valor predito da árvore de decisão e da floresta aleátoria"
      ],
      "metadata": {
        "id": "5fu4Htmsyfxy"
      }
    },
    {
      "cell_type": "code",
      "source": [
        "test_normalized <- bake(receita, new_data = dados_teste, all_predictors())\n",
        "\n",
        "rf_last_fit <- \n",
        "  rf_last_fit |>\n",
        "  rename(`random forest` = pred) |>\n",
        "  bind_cols(\n",
        "    tree_last_fit |>\n",
        "      rename(`arvore decisao` = pred)\n",
        "  )\n",
        "rf_last_fit <- janitor::clean_names(rf_last_fit)\n",
        "rf_last_fit <- \n",
        "  rf_last_fit |>\n",
        "  rename(rendimento = rendimento_1) \n",
        "rf_last_fit |> select(rendimento,random_forest,arvore_decisao)"
      ],
      "metadata": {
        "colab": {
          "base_uri": "https://localhost:8080/",
          "height": 1000
        },
        "id": "ZQvRF--zygWS",
        "outputId": "9ca4f30b-833e-4197-94a3-e3fec066a9cd"
      },
      "execution_count": 55,
      "outputs": [
        {
          "output_type": "stream",
          "name": "stderr",
          "text": [
            "\u001b[1m\u001b[22mNew names:\n",
            "\u001b[36m•\u001b[39m `rendimento` -> `rendimento...1`\n",
            "\u001b[36m•\u001b[39m `id` -> `id...2`\n",
            "\u001b[36m•\u001b[39m `row` -> `row...4`\n",
            "\u001b[36m•\u001b[39m `rendimento_5` -> `rendimento_5...5`\n",
            "\u001b[36m•\u001b[39m `config` -> `config...6`\n",
            "\u001b[36m•\u001b[39m `rendimento` -> `rendimento...7`\n",
            "\u001b[36m•\u001b[39m `id` -> `id...8`\n",
            "\u001b[36m•\u001b[39m `row` -> `row...10`\n",
            "\u001b[36m•\u001b[39m `rendimento_5` -> `rendimento_5...11`\n",
            "\u001b[36m•\u001b[39m `config` -> `config...12`\n"
          ]
        },
        {
          "output_type": "display_data",
          "data": {
            "text/html": [
              "<table class=\"dataframe\">\n",
              "<caption>A tibble: 40 × 3</caption>\n",
              "<thead>\n",
              "\t<tr><th scope=col>rendimento</th><th scope=col>random_forest</th><th scope=col>arvore_decisao</th></tr>\n",
              "\t<tr><th scope=col>&lt;dbl&gt;</th><th scope=col>&lt;dbl&gt;</th><th scope=col>&lt;dbl&gt;</th></tr>\n",
              "</thead>\n",
              "<tbody>\n",
              "\t<tr><td>2.689753</td><td>2.747127</td><td>2.731253</td></tr>\n",
              "\t<tr><td>2.983626</td><td>2.956849</td><td>2.991622</td></tr>\n",
              "\t<tr><td>2.984122</td><td>2.956849</td><td>2.991622</td></tr>\n",
              "\t<tr><td>3.369012</td><td>3.350765</td><td>3.391497</td></tr>\n",
              "\t<tr><td>2.924796</td><td>2.956849</td><td>2.991622</td></tr>\n",
              "\t<tr><td>3.052078</td><td>3.113938</td><td>3.113976</td></tr>\n",
              "\t<tr><td>3.314415</td><td>3.350765</td><td>3.391497</td></tr>\n",
              "\t<tr><td>2.685652</td><td>2.747127</td><td>2.731253</td></tr>\n",
              "\t<tr><td>3.103633</td><td>3.113938</td><td>3.113976</td></tr>\n",
              "\t<tr><td>3.379614</td><td>3.350765</td><td>3.391497</td></tr>\n",
              "\t<tr><td>2.785828</td><td>2.747127</td><td>2.731253</td></tr>\n",
              "\t<tr><td>3.408799</td><td>3.350765</td><td>3.391497</td></tr>\n",
              "\t<tr><td>2.817433</td><td>2.747127</td><td>2.731253</td></tr>\n",
              "\t<tr><td>3.127267</td><td>2.956849</td><td>2.991622</td></tr>\n",
              "\t<tr><td>3.112169</td><td>2.956849</td><td>2.991622</td></tr>\n",
              "\t<tr><td>3.207930</td><td>3.113938</td><td>3.113976</td></tr>\n",
              "\t<tr><td>3.141450</td><td>3.165741</td><td>3.183288</td></tr>\n",
              "\t<tr><td>3.174234</td><td>3.165741</td><td>3.183288</td></tr>\n",
              "\t<tr><td>2.878464</td><td>2.950323</td><td>2.932935</td></tr>\n",
              "\t<tr><td>3.173536</td><td>3.165741</td><td>3.183288</td></tr>\n",
              "\t<tr><td>2.882866</td><td>2.950323</td><td>2.932935</td></tr>\n",
              "\t<tr><td>3.147553</td><td>3.165741</td><td>3.183288</td></tr>\n",
              "\t<tr><td>2.409257</td><td>2.523652</td><td>2.519559</td></tr>\n",
              "\t<tr><td>2.859978</td><td>2.950323</td><td>2.932935</td></tr>\n",
              "\t<tr><td>3.134241</td><td>3.165741</td><td>3.183288</td></tr>\n",
              "\t<tr><td>2.169968</td><td>2.344354</td><td>2.284740</td></tr>\n",
              "\t<tr><td>3.095204</td><td>3.165741</td><td>3.183288</td></tr>\n",
              "\t<tr><td>2.904391</td><td>2.950323</td><td>2.932935</td></tr>\n",
              "\t<tr><td>2.552668</td><td>2.523652</td><td>2.519559</td></tr>\n",
              "\t<tr><td>2.355068</td><td>2.344354</td><td>2.284740</td></tr>\n",
              "\t<tr><td>2.584105</td><td>2.523652</td><td>2.519559</td></tr>\n",
              "\t<tr><td>2.409087</td><td>2.344354</td><td>2.284740</td></tr>\n",
              "\t<tr><td>2.681060</td><td>2.523652</td><td>2.519559</td></tr>\n",
              "\t<tr><td>3.045323</td><td>2.950323</td><td>2.932935</td></tr>\n",
              "\t<tr><td>3.282713</td><td>3.165741</td><td>3.183288</td></tr>\n",
              "\t<tr><td>2.544564</td><td>2.344354</td><td>2.284740</td></tr>\n",
              "\t<tr><td>3.293782</td><td>3.165741</td><td>3.183288</td></tr>\n",
              "\t<tr><td>2.553640</td><td>2.344354</td><td>2.284740</td></tr>\n",
              "\t<tr><td>2.798927</td><td>2.523652</td><td>2.519559</td></tr>\n",
              "\t<tr><td>2.554489</td><td>2.344354</td><td>2.284740</td></tr>\n",
              "</tbody>\n",
              "</table>\n"
            ],
            "text/markdown": "\nA tibble: 40 × 3\n\n| rendimento &lt;dbl&gt; | random_forest &lt;dbl&gt; | arvore_decisao &lt;dbl&gt; |\n|---|---|---|\n| 2.689753 | 2.747127 | 2.731253 |\n| 2.983626 | 2.956849 | 2.991622 |\n| 2.984122 | 2.956849 | 2.991622 |\n| 3.369012 | 3.350765 | 3.391497 |\n| 2.924796 | 2.956849 | 2.991622 |\n| 3.052078 | 3.113938 | 3.113976 |\n| 3.314415 | 3.350765 | 3.391497 |\n| 2.685652 | 2.747127 | 2.731253 |\n| 3.103633 | 3.113938 | 3.113976 |\n| 3.379614 | 3.350765 | 3.391497 |\n| 2.785828 | 2.747127 | 2.731253 |\n| 3.408799 | 3.350765 | 3.391497 |\n| 2.817433 | 2.747127 | 2.731253 |\n| 3.127267 | 2.956849 | 2.991622 |\n| 3.112169 | 2.956849 | 2.991622 |\n| 3.207930 | 3.113938 | 3.113976 |\n| 3.141450 | 3.165741 | 3.183288 |\n| 3.174234 | 3.165741 | 3.183288 |\n| 2.878464 | 2.950323 | 2.932935 |\n| 3.173536 | 3.165741 | 3.183288 |\n| 2.882866 | 2.950323 | 2.932935 |\n| 3.147553 | 3.165741 | 3.183288 |\n| 2.409257 | 2.523652 | 2.519559 |\n| 2.859978 | 2.950323 | 2.932935 |\n| 3.134241 | 3.165741 | 3.183288 |\n| 2.169968 | 2.344354 | 2.284740 |\n| 3.095204 | 3.165741 | 3.183288 |\n| 2.904391 | 2.950323 | 2.932935 |\n| 2.552668 | 2.523652 | 2.519559 |\n| 2.355068 | 2.344354 | 2.284740 |\n| 2.584105 | 2.523652 | 2.519559 |\n| 2.409087 | 2.344354 | 2.284740 |\n| 2.681060 | 2.523652 | 2.519559 |\n| 3.045323 | 2.950323 | 2.932935 |\n| 3.282713 | 3.165741 | 3.183288 |\n| 2.544564 | 2.344354 | 2.284740 |\n| 3.293782 | 3.165741 | 3.183288 |\n| 2.553640 | 2.344354 | 2.284740 |\n| 2.798927 | 2.523652 | 2.519559 |\n| 2.554489 | 2.344354 | 2.284740 |\n\n",
            "text/latex": "A tibble: 40 × 3\n\\begin{tabular}{lll}\n rendimento & random\\_forest & arvore\\_decisao\\\\\n <dbl> & <dbl> & <dbl>\\\\\n\\hline\n\t 2.689753 & 2.747127 & 2.731253\\\\\n\t 2.983626 & 2.956849 & 2.991622\\\\\n\t 2.984122 & 2.956849 & 2.991622\\\\\n\t 3.369012 & 3.350765 & 3.391497\\\\\n\t 2.924796 & 2.956849 & 2.991622\\\\\n\t 3.052078 & 3.113938 & 3.113976\\\\\n\t 3.314415 & 3.350765 & 3.391497\\\\\n\t 2.685652 & 2.747127 & 2.731253\\\\\n\t 3.103633 & 3.113938 & 3.113976\\\\\n\t 3.379614 & 3.350765 & 3.391497\\\\\n\t 2.785828 & 2.747127 & 2.731253\\\\\n\t 3.408799 & 3.350765 & 3.391497\\\\\n\t 2.817433 & 2.747127 & 2.731253\\\\\n\t 3.127267 & 2.956849 & 2.991622\\\\\n\t 3.112169 & 2.956849 & 2.991622\\\\\n\t 3.207930 & 3.113938 & 3.113976\\\\\n\t 3.141450 & 3.165741 & 3.183288\\\\\n\t 3.174234 & 3.165741 & 3.183288\\\\\n\t 2.878464 & 2.950323 & 2.932935\\\\\n\t 3.173536 & 3.165741 & 3.183288\\\\\n\t 2.882866 & 2.950323 & 2.932935\\\\\n\t 3.147553 & 3.165741 & 3.183288\\\\\n\t 2.409257 & 2.523652 & 2.519559\\\\\n\t 2.859978 & 2.950323 & 2.932935\\\\\n\t 3.134241 & 3.165741 & 3.183288\\\\\n\t 2.169968 & 2.344354 & 2.284740\\\\\n\t 3.095204 & 3.165741 & 3.183288\\\\\n\t 2.904391 & 2.950323 & 2.932935\\\\\n\t 2.552668 & 2.523652 & 2.519559\\\\\n\t 2.355068 & 2.344354 & 2.284740\\\\\n\t 2.584105 & 2.523652 & 2.519559\\\\\n\t 2.409087 & 2.344354 & 2.284740\\\\\n\t 2.681060 & 2.523652 & 2.519559\\\\\n\t 3.045323 & 2.950323 & 2.932935\\\\\n\t 3.282713 & 3.165741 & 3.183288\\\\\n\t 2.544564 & 2.344354 & 2.284740\\\\\n\t 3.293782 & 3.165741 & 3.183288\\\\\n\t 2.553640 & 2.344354 & 2.284740\\\\\n\t 2.798927 & 2.523652 & 2.519559\\\\\n\t 2.554489 & 2.344354 & 2.284740\\\\\n\\end{tabular}\n",
            "text/plain": [
              "   rendimento random_forest arvore_decisao\n",
              "1  2.689753   2.747127      2.731253      \n",
              "2  2.983626   2.956849      2.991622      \n",
              "3  2.984122   2.956849      2.991622      \n",
              "4  3.369012   3.350765      3.391497      \n",
              "5  2.924796   2.956849      2.991622      \n",
              "6  3.052078   3.113938      3.113976      \n",
              "7  3.314415   3.350765      3.391497      \n",
              "8  2.685652   2.747127      2.731253      \n",
              "9  3.103633   3.113938      3.113976      \n",
              "10 3.379614   3.350765      3.391497      \n",
              "11 2.785828   2.747127      2.731253      \n",
              "12 3.408799   3.350765      3.391497      \n",
              "13 2.817433   2.747127      2.731253      \n",
              "14 3.127267   2.956849      2.991622      \n",
              "15 3.112169   2.956849      2.991622      \n",
              "16 3.207930   3.113938      3.113976      \n",
              "17 3.141450   3.165741      3.183288      \n",
              "18 3.174234   3.165741      3.183288      \n",
              "19 2.878464   2.950323      2.932935      \n",
              "20 3.173536   3.165741      3.183288      \n",
              "21 2.882866   2.950323      2.932935      \n",
              "22 3.147553   3.165741      3.183288      \n",
              "23 2.409257   2.523652      2.519559      \n",
              "24 2.859978   2.950323      2.932935      \n",
              "25 3.134241   3.165741      3.183288      \n",
              "26 2.169968   2.344354      2.284740      \n",
              "27 3.095204   3.165741      3.183288      \n",
              "28 2.904391   2.950323      2.932935      \n",
              "29 2.552668   2.523652      2.519559      \n",
              "30 2.355068   2.344354      2.284740      \n",
              "31 2.584105   2.523652      2.519559      \n",
              "32 2.409087   2.344354      2.284740      \n",
              "33 2.681060   2.523652      2.519559      \n",
              "34 3.045323   2.950323      2.932935      \n",
              "35 3.282713   3.165741      3.183288      \n",
              "36 2.544564   2.344354      2.284740      \n",
              "37 3.293782   3.165741      3.183288      \n",
              "38 2.553640   2.344354      2.284740      \n",
              "39 2.798927   2.523652      2.519559      \n",
              "40 2.554489   2.344354      2.284740      "
            ]
          },
          "metadata": {}
        }
      ]
    },
    {
      "cell_type": "code",
      "source": [
        "rf_last_fit |>\n",
        "  gather(model, prediction, random_forest,arvore_decisao) |>\n",
        "  ggplot(aes(x = prediction, y = rendimento)) + \n",
        "  geom_abline(col = \"green\", lty = 2) + \n",
        "  geom_point(alpha = .4) + \n",
        "  facet_wrap(~model) + \n",
        "  coord_fixed()"
      ],
      "metadata": {
        "colab": {
          "base_uri": "https://localhost:8080/",
          "height": 437
        },
        "id": "t8j06weOylkx",
        "outputId": "e36ee4bd-0abc-42e7-ac3d-8e46a262c730"
      },
      "execution_count": 56,
      "outputs": [
        {
          "output_type": "display_data",
          "data": {
            "text/plain": [
              "plot without title"
            ],
            "image/png": "[encoded data removed]"
          },
          "metadata": {
            "image/png": {
              "width": 420,
              "height": 420
            }
          }
        }
      ]
    },
    {
      "cell_type": "markdown",
      "source": [
        "Os dois modelos obtiveram um bom resultado a árvore de decisão teve uma rsq de 91% enquanto o da floresta aletória teve 90%."
      ],
      "metadata": {
        "id": "ZsJFrtkcyowP"
      }
    }
  ]
}